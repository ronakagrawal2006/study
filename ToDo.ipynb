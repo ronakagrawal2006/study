{
 "cells": [
  {
   "cell_type": "raw",
   "metadata": {},
   "source": [
    "ToDo:\n",
    "• Model Evaluation\n",
    "\t◦ Regression:\n",
    "\t\t‣ MSE\n",
    "\t\t‣ MAE\n",
    "\t\t‣ R2\n",
    "\t◦ Classification\n",
    "\t\t‣ Precision, Recall\n",
    "\t\t‣ Specificity\n",
    "\t\t‣ F1-Score\n",
    "\t\t‣ ROC Curve\n",
    "\t\t‣ Precision Recall Curve\n",
    "• Linear Regression\n",
    "\t◦ OLS\n",
    "\t◦ Assumptions\n",
    "\t◦ Regularisation\n",
    "\t\t‣ L0\n",
    "\t\t‣ L1\n",
    "\t\t‣ L2\n",
    "\t\t‣ Elastic Net - Combination of L1,L2\n",
    "• Logistic Regression\n",
    "\t◦ Assumptions\n",
    "• Significance Testing\n",
    "\t◦ P-value\n",
    "\t◦ Type 1- error\n",
    "\t◦ Type 2- error\n",
    "\t◦ Power\n",
    "\t◦ Z-test\n",
    "• Decision Trees\n",
    "\t◦ Classification and Regression Trees\n",
    "\t◦ Random Forest\n",
    "• Questions - Expected to be asked for challenges faced\n",
    "• Questions - Discount Sensitivity\n",
    "• Questions - RF-Segments\n",
    "• Questions - Semantic Search\n",
    "\t◦ Word2Vec - input/output\n",
    "\t◦ Design, approach\n",
    "• Questions - Quora Question Pairs\n",
    "\t◦ Architecture of the model\n",
    "\t◦ Learnings\n",
    "\t"
   ]
  },
  {
   "cell_type": "raw",
   "metadata": {},
   "source": []
  }
 ],
 "metadata": {
  "kernelspec": {
   "display_name": "customer",
   "language": "python",
   "name": "customer"
  },
  "language_info": {
   "codemirror_mode": {
    "name": "ipython",
    "version": 3
   },
   "file_extension": ".py",
   "mimetype": "text/x-python",
   "name": "python",
   "nbconvert_exporter": "python",
   "pygments_lexer": "ipython3",
   "version": "3.7.5"
  }
 },
 "nbformat": 4,
 "nbformat_minor": 4
}
