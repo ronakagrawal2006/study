{
 "cells": [
  {
   "cell_type": "code",
   "execution_count": 1,
   "id": "initial-commons",
   "metadata": {},
   "outputs": [],
   "source": [
    "import pandas as pd\n",
    "import numpy as np\n"
   ]
  },
  {
   "cell_type": "code",
   "execution_count": 20,
   "id": "optimum-outdoors",
   "metadata": {},
   "outputs": [],
   "source": [
    "raw_data=pd.read_csv('raw_data.csv')"
   ]
  },
  {
   "cell_type": "code",
   "execution_count": 21,
   "id": "recorded-sailing",
   "metadata": {},
   "outputs": [
    {
     "data": {
      "text/html": [
       "<div>\n",
       "<style scoped>\n",
       "    .dataframe tbody tr th:only-of-type {\n",
       "        vertical-align: middle;\n",
       "    }\n",
       "\n",
       "    .dataframe tbody tr th {\n",
       "        vertical-align: top;\n",
       "    }\n",
       "\n",
       "    .dataframe thead th {\n",
       "        text-align: right;\n",
       "    }\n",
       "</style>\n",
       "<table border=\"1\" class=\"dataframe\">\n",
       "  <thead>\n",
       "    <tr style=\"text-align: right;\">\n",
       "      <th></th>\n",
       "      <th>_id</th>\n",
       "      <th>customer</th>\n",
       "      <th>amountbreakup_final_total</th>\n",
       "    </tr>\n",
       "  </thead>\n",
       "  <tbody>\n",
       "    <tr>\n",
       "      <th>20</th>\n",
       "      <td>60dbd8f43655fd3b5986fe05</td>\n",
       "      <td>5e02d5bd18576832ff7bc365</td>\n",
       "      <td>47.0</td>\n",
       "    </tr>\n",
       "    <tr>\n",
       "      <th>36</th>\n",
       "      <td>60dbd8f83655fd3b5986fe06</td>\n",
       "      <td>5d577c41bde10e0d5442a5b5</td>\n",
       "      <td>79.0</td>\n",
       "    </tr>\n",
       "  </tbody>\n",
       "</table>\n",
       "</div>"
      ],
      "text/plain": [
       "                         _id                  customer  \\\n",
       "20  60dbd8f43655fd3b5986fe05  5e02d5bd18576832ff7bc365   \n",
       "36  60dbd8f83655fd3b5986fe06  5d577c41bde10e0d5442a5b5   \n",
       "\n",
       "    amountbreakup_final_total  \n",
       "20                       47.0  \n",
       "36                       79.0  "
      ]
     },
     "execution_count": 21,
     "metadata": {},
     "output_type": "execute_result"
    }
   ],
   "source": [
    "raw_data.sample(2)"
   ]
  },
  {
   "cell_type": "code",
   "execution_count": 15,
   "id": "verbal-bandwidth",
   "metadata": {},
   "outputs": [],
   "source": [
    "import datetime as dt\n",
    "def loggg(f):\n",
    "    def wrapper(df, *args, **kwargs):\n",
    "        tic=dt.datetime.now()\n",
    "        result=f(df,*args,**kwargs)\n",
    "        toc=dt.datetime.now()\n",
    "        print(f\"{f.__name__} took {toc-tic}, shape :{result.shape}\")\n",
    "        print(f\"unique customers :{result['customer'].nunique()}\")\n",
    "        return result\n",
    "    return wrapper\n",
    "\n",
    "@loggg\n",
    "def start_pipeline(df):\n",
    "    \"\"\"avoid master frame mutation\"\"\"\n",
    "    return df.copy()\n",
    "\n",
    "@loggg\n",
    "def rename_columns(records):\n",
    "    records.columns=[x.replace(' ','') for x in records.columns]\n",
    "    records=records.rename(columns={\n",
    "        '_id':'orderid',\n",
    "        'amountbreakup_final_total':'amount'\n",
    "    })\n",
    "    return records\n",
    "\n",
    "@loggg\n",
    "def remove_outliers_for_cont_vars(records,continuous_cols=None):\n",
    "    return records.sample(frac=0.95)"
   ]
  },
  {
   "cell_type": "code",
   "execution_count": 16,
   "id": "angry-graduate",
   "metadata": {},
   "outputs": [
    {
     "name": "stdout",
     "output_type": "stream",
     "text": [
      "start_pipeline took 0:00:00.000101, shape :(50, 3)\n",
      "unique customers :47\n",
      "rename_columns took 0:00:00.000546, shape :(50, 3)\n",
      "unique customers :47\n",
      "remove_outliers_for_cont_vars took 0:00:00.000271, shape :(48, 3)\n",
      "unique customers :45\n"
     ]
    }
   ],
   "source": [
    "result_data=(raw_data\n",
    " .pipe(start_pipeline)\n",
    " .pipe(rename_columns)\n",
    " .pipe(remove_outliers_for_cont_vars)        \n",
    ")  "
   ]
  },
  {
   "cell_type": "code",
   "execution_count": 12,
   "id": "posted-maria",
   "metadata": {},
   "outputs": [
    {
     "data": {
      "text/html": [
       "<div>\n",
       "<style scoped>\n",
       "    .dataframe tbody tr th:only-of-type {\n",
       "        vertical-align: middle;\n",
       "    }\n",
       "\n",
       "    .dataframe tbody tr th {\n",
       "        vertical-align: top;\n",
       "    }\n",
       "\n",
       "    .dataframe thead th {\n",
       "        text-align: right;\n",
       "    }\n",
       "</style>\n",
       "<table border=\"1\" class=\"dataframe\">\n",
       "  <thead>\n",
       "    <tr style=\"text-align: right;\">\n",
       "      <th></th>\n",
       "      <th>orderid</th>\n",
       "      <th>customer</th>\n",
       "      <th>amount</th>\n",
       "    </tr>\n",
       "  </thead>\n",
       "  <tbody>\n",
       "    <tr>\n",
       "      <th>49</th>\n",
       "      <td>60dbd8fc6971c84db6634f4d</td>\n",
       "      <td>5c74f2f4ec5aeb2b936e6a22</td>\n",
       "      <td>117.0</td>\n",
       "    </tr>\n",
       "  </tbody>\n",
       "</table>\n",
       "</div>"
      ],
      "text/plain": [
       "                     orderid                  customer  amount\n",
       "49  60dbd8fc6971c84db6634f4d  5c74f2f4ec5aeb2b936e6a22   117.0"
      ]
     },
     "execution_count": 12,
     "metadata": {},
     "output_type": "execute_result"
    }
   ],
   "source": [
    "raw_data.sample()\n",
    "result.sample()"
   ]
  },
  {
   "cell_type": "code",
   "execution_count": null,
   "id": "defined-series",
   "metadata": {},
   "outputs": [],
   "source": []
  }
 ],
 "metadata": {
  "kernelspec": {
   "display_name": "customer",
   "language": "python",
   "name": "customer"
  },
  "language_info": {
   "codemirror_mode": {
    "name": "ipython",
    "version": 3
   },
   "file_extension": ".py",
   "mimetype": "text/x-python",
   "name": "python",
   "nbconvert_exporter": "python",
   "pygments_lexer": "ipython3",
   "version": "3.7.5"
  }
 },
 "nbformat": 4,
 "nbformat_minor": 5
}
