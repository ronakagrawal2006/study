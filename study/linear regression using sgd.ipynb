{
 "cells": [
  {
   "cell_type": "code",
   "execution_count": 43,
   "metadata": {},
   "outputs": [],
   "source": [
    "import pandas as pd\n",
    "from IPython.core.interactiveshell import InteractiveShell\n",
    "InteractiveShell.ast_node_interactivity = \"all\"\n"
   ]
  },
  {
   "cell_type": "code",
   "execution_count": 2,
   "metadata": {},
   "outputs": [],
   "source": [
    "import numpy as np"
   ]
  },
  {
   "cell_type": "code",
   "execution_count": 6,
   "metadata": {},
   "outputs": [],
   "source": [
    "df=pd.read_csv('regression_data.csv')"
   ]
  },
  {
   "cell_type": "code",
   "execution_count": 16,
   "metadata": {},
   "outputs": [
    {
     "data": {
      "text/html": [
       "<div>\n",
       "<style scoped>\n",
       "    .dataframe tbody tr th:only-of-type {\n",
       "        vertical-align: middle;\n",
       "    }\n",
       "\n",
       "    .dataframe tbody tr th {\n",
       "        vertical-align: top;\n",
       "    }\n",
       "\n",
       "    .dataframe thead th {\n",
       "        text-align: right;\n",
       "    }\n",
       "</style>\n",
       "<table border=\"1\" class=\"dataframe\">\n",
       "  <thead>\n",
       "    <tr style=\"text-align: right;\">\n",
       "      <th></th>\n",
       "      <th>input</th>\n",
       "      <th>output</th>\n",
       "    </tr>\n",
       "  </thead>\n",
       "  <tbody>\n",
       "    <tr>\n",
       "      <th>68</th>\n",
       "      <td>15.5</td>\n",
       "      <td>35.004665</td>\n",
       "    </tr>\n",
       "    <tr>\n",
       "      <th>69</th>\n",
       "      <td>16.0</td>\n",
       "      <td>41.686444</td>\n",
       "    </tr>\n",
       "    <tr>\n",
       "      <th>70</th>\n",
       "      <td>16.5</td>\n",
       "      <td>43.955848</td>\n",
       "    </tr>\n",
       "    <tr>\n",
       "      <th>71</th>\n",
       "      <td>17.0</td>\n",
       "      <td>38.091021</td>\n",
       "    </tr>\n",
       "    <tr>\n",
       "      <th>72</th>\n",
       "      <td>17.5</td>\n",
       "      <td>39.718805</td>\n",
       "    </tr>\n",
       "    <tr>\n",
       "      <th>73</th>\n",
       "      <td>18.0</td>\n",
       "      <td>38.956177</td>\n",
       "    </tr>\n",
       "    <tr>\n",
       "      <th>74</th>\n",
       "      <td>18.5</td>\n",
       "      <td>43.437121</td>\n",
       "    </tr>\n",
       "    <tr>\n",
       "      <th>75</th>\n",
       "      <td>19.0</td>\n",
       "      <td>42.986644</td>\n",
       "    </tr>\n",
       "    <tr>\n",
       "      <th>76</th>\n",
       "      <td>19.5</td>\n",
       "      <td>46.014218</td>\n",
       "    </tr>\n",
       "    <tr>\n",
       "      <th>77</th>\n",
       "      <td>20.0</td>\n",
       "      <td>46.759943</td>\n",
       "    </tr>\n",
       "  </tbody>\n",
       "</table>\n",
       "</div>"
      ],
      "text/plain": [
       "    input     output\n",
       "68   15.5  35.004665\n",
       "69   16.0  41.686444\n",
       "70   16.5  43.955848\n",
       "71   17.0  38.091021\n",
       "72   17.5  39.718805\n",
       "73   18.0  38.956177\n",
       "74   18.5  43.437121\n",
       "75   19.0  42.986644\n",
       "76   19.5  46.014218\n",
       "77   20.0  46.759943"
      ]
     },
     "execution_count": 16,
     "metadata": {},
     "output_type": "execute_result"
    }
   ],
   "source": [
    "df.head(2)\n",
    "df.tail(10)\n"
   ]
  },
  {
   "cell_type": "code",
   "execution_count": null,
   "metadata": {},
   "outputs": [],
   "source": []
  },
  {
   "cell_type": "code",
   "execution_count": 20,
   "metadata": {},
   "outputs": [],
   "source": [
    "x=df.input.values\n",
    "y=df.output.values"
   ]
  },
  {
   "cell_type": "code",
   "execution_count": 44,
   "metadata": {},
   "outputs": [
    {
     "data": {
      "text/plain": [
       "(array([1.77047922]), 7.91931619272691)"
      ]
     },
     "execution_count": 44,
     "metadata": {},
     "output_type": "execute_result"
    }
   ],
   "source": [
    "#actual values from package\n",
    "from sklearn.linear_model import LinearRegression\n",
    "reg = LinearRegression().fit(x.reshape(-1,1), y)\n",
    "reg.coef_,reg.intercept_\n",
    "# vars(reg)"
   ]
  },
  {
   "cell_type": "code",
   "execution_count": null,
   "metadata": {},
   "outputs": [],
   "source": [
    "min_error_reached at 11.316726627043014, m_curr:1.7704792199307677, c_curr=7.919316192726939"
   ]
  },
  {
   "cell_type": "code",
   "execution_count": 24,
   "metadata": {},
   "outputs": [
    {
     "data": {
      "text/plain": [
       "255.3957979697801"
      ]
     },
     "execution_count": 24,
     "metadata": {},
     "output_type": "execute_result"
    }
   ],
   "source": [
    "#ask is to fit a line using gradient descent\n",
    "# get slope of line\n",
    "#initialise parameters\n",
    "\n",
    "\n",
    "get_mse(y_hat)"
   ]
  },
  {
   "cell_type": "code",
   "execution_count": 32,
   "metadata": {},
   "outputs": [
    {
     "data": {
      "text/plain": [
       "255.3957979697801"
      ]
     },
     "execution_count": 32,
     "metadata": {},
     "output_type": "execute_result"
    }
   ],
   "source": [
    "# from sklearn.metrics import mean_squared_error\n",
    "# mean_squared_error(y,y_hat)"
   ]
  },
  {
   "cell_type": "markdown",
   "metadata": {},
   "source": [
    "Questions\n",
    "# What are the axis'es of the convex cost funciton? what do each point represent\n",
    "# how many dimensions in gradient descent\n",
    "# why is this m - dimensional space\n",
    "# you take derivative on parameters to estimate? or features?\n",
    "# function of m and c, not of x and y\n",
    "#\n"
   ]
  },
  {
   "cell_type": "code",
   "execution_count": null,
   "metadata": {},
   "outputs": [],
   "source": [
    "#Steps in gradient descent\n",
    "#1. know the parameters - m, theta\n",
    "#2. initialise the parameters - init\n",
    "#3. define the cost funciton - \n",
    "#4. define delta of cost funciton update\n",
    "#5. define flow of delta to update\n",
    "#6. terminating condition\n",
    "#7\n"
   ]
  },
  {
   "cell_type": "code",
   "execution_count": 95,
   "metadata": {},
   "outputs": [
    {
     "data": {
      "text/plain": [
       "(1, 1)"
      ]
     },
     "execution_count": 95,
     "metadata": {},
     "output_type": "execute_result"
    },
    {
     "name": "stdout",
     "output_type": "stream",
     "text": [
      "min_error_reached at 11.316726627043034, m_curr:1.7704791987219017, c_curr=7.919316407162434\n"
     ]
    }
   ],
   "source": [
    "#update m flow\n",
    "#calculate delta m\n",
    "def init():\n",
    "    return 1,1\n",
    "\n",
    "def get_y_hat(m,c):\n",
    "    return m*x+c\n",
    "\n",
    "#error calculation\n",
    "def get_mse(y_hat):\n",
    "    return sum((y-y_hat)**2)/len(y_hat)\n",
    "\n",
    "def get_delta_m(x,y,m_curr,c_curr):\n",
    "    y_sub_y_hat_star_x=(y-m_curr*x-c_curr)*(x)\n",
    "    sum_of_diff=sum(y_sub_y_hat_star_x)\n",
    "#     print(f'sum_of_diff: {sum_of_diff}')\n",
    "    result=(-2/len(y)) * sum_of_diff\n",
    "    return result\n",
    "\n",
    "def compare_m_delta(x,y,y_hat):\n",
    "    sum_of_diff_start_x_compare=sum(x * (y - y_hat))\n",
    "#     print(f'sum_of_diff_start_x_compare: {sum_of_diff_start_x_compare}')\n",
    "    return (-2/len(y))* sum(x * (y - y_hat))\n",
    "def get_delta_c(x,y,m_curr,c_curr):\n",
    "    return (-2/len(y))* sum(y-m_curr*x-c_curr)\n",
    "\n",
    "m_initial, c_initial=init()\n",
    "m_initial, c_initial\n",
    "\n",
    "m_curr=m_initial\n",
    "c_curr=c_initial\n",
    "min_error=np.inf\n",
    "for i in range(500):\n",
    "    y_hat=get_y_hat(m_curr,c_curr)\n",
    "    m_compare=compare_m_delta(x,y,y_hat)\n",
    "    m_delta=get_delta_m(x,y,m_curr,c_curr)\n",
    "#     m_delta,m_compare\n",
    "    curr_error=get_mse(y_hat)\n",
    "\n",
    "    if curr_error<min_error:\n",
    "        min_error=curr_error\n",
    "    else:\n",
    "        print(f'min_error_reached at {curr_error}, m_curr:{m_curr}, c_curr={c_curr}' )\n",
    "        break\n",
    "#     #update m\n",
    "#     x,y,m_curr,c_curr\n",
    "#     m_delta=get_delta_m(x,y,m_curr,c_curr)\n",
    "    m_next=m_curr-m_delta*0.001\n",
    "#     f'curr_error: {curr_error}, m_delta:{m_delta} m_curr :{m_curr}, m_next: {m_next}, c_curr = {c_curr}'\n",
    "    m_curr=m_next\n",
    "\n",
    "    #update c\n",
    "    c_delta= get_delta_c(x,y,m_curr,c_curr)\n",
    "    c_next=c_curr-c_delta\n",
    "    c_curr=c_next\n",
    "#     break\n",
    "\n",
    "# 'curr_error: 255.3957979697801'\n",
    "# 'curr_error: 2087.538127171408'\n",
    "# 'curr_error: 18883.11401417236'\n"
   ]
  },
  {
   "cell_type": "markdown",
   "metadata": {},
   "source": [
    "#### using OLS formula"
   ]
  },
  {
   "cell_type": "code",
   "execution_count": 112,
   "metadata": {},
   "outputs": [
    {
     "data": {
      "text/plain": [
       "4373.083673229"
      ]
     },
     "execution_count": 112,
     "metadata": {},
     "output_type": "execute_result"
    }
   ],
   "source": [
    "beta_one_num = sum((y - np.mean(y))* (x-np.mean(x)))\n",
    "beta_one_num"
   ]
  },
  {
   "cell_type": "code",
   "execution_count": 113,
   "metadata": {},
   "outputs": [
    {
     "data": {
      "text/plain": [
       "2470.0"
      ]
     },
     "execution_count": 113,
     "metadata": {},
     "output_type": "execute_result"
    }
   ],
   "source": [
    "beta_one_deom=sum((x-np.mean(x))*(x-np.mean(x)))\n",
    "beta_one_deom"
   ]
  },
  {
   "cell_type": "code",
   "execution_count": 114,
   "metadata": {},
   "outputs": [
    {
     "data": {
      "text/plain": [
       "1.7704792199307693"
      ]
     },
     "execution_count": 114,
     "metadata": {},
     "output_type": "execute_result"
    }
   ],
   "source": [
    "m_curr_ols=beta_one_num/beta_one_deom\n",
    "m_curr_ols"
   ]
  },
  {
   "cell_type": "code",
   "execution_count": null,
   "metadata": {},
   "outputs": [],
   "source": []
  },
  {
   "cell_type": "code",
   "execution_count": null,
   "metadata": {},
   "outputs": [],
   "source": []
  },
  {
   "cell_type": "code",
   "execution_count": null,
   "metadata": {},
   "outputs": [],
   "source": []
  }
 ],
 "metadata": {
  "kernelspec": {
   "display_name": "customer",
   "language": "python",
   "name": "customer"
  },
  "language_info": {
   "codemirror_mode": {
    "name": "ipython",
    "version": 3
   },
   "file_extension": ".py",
   "mimetype": "text/x-python",
   "name": "python",
   "nbconvert_exporter": "python",
   "pygments_lexer": "ipython3",
   "version": "3.7.5"
  }
 },
 "nbformat": 4,
 "nbformat_minor": 4
}
