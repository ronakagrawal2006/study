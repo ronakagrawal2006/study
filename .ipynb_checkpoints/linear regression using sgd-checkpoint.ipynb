{
 "cells": [
  {
   "cell_type": "code",
   "execution_count": 43,
   "metadata": {},
   "outputs": [],
   "source": [
    "import pandas as pd\n",
    "from IPython.core.interactiveshell import InteractiveShell\n",
    "InteractiveShell.ast_node_interactivity = \"all\"\n"
   ]
  },
  {
   "cell_type": "code",
   "execution_count": 2,
   "metadata": {},
   "outputs": [],
   "source": [
    "import numpy as np"
   ]
  },
  {
   "cell_type": "code",
   "execution_count": 6,
   "metadata": {},
   "outputs": [],
   "source": [
    "df=pd.read_csv('regression_data.csv')"
   ]
  },
  {
   "cell_type": "code",
   "execution_count": 16,
   "metadata": {},
   "outputs": [
    {
     "data": {
      "text/html": [
       "<div>\n",
       "<style scoped>\n",
       "    .dataframe tbody tr th:only-of-type {\n",
       "        vertical-align: middle;\n",
       "    }\n",
       "\n",
       "    .dataframe tbody tr th {\n",
       "        vertical-align: top;\n",
       "    }\n",
       "\n",
       "    .dataframe thead th {\n",
       "        text-align: right;\n",
       "    }\n",
       "</style>\n",
       "<table border=\"1\" class=\"dataframe\">\n",
       "  <thead>\n",
       "    <tr style=\"text-align: right;\">\n",
       "      <th></th>\n",
       "      <th>input</th>\n",
       "      <th>output</th>\n",
       "    </tr>\n",
       "  </thead>\n",
       "  <tbody>\n",
       "    <tr>\n",
       "      <th>68</th>\n",
       "      <td>15.5</td>\n",
       "      <td>35.004665</td>\n",
       "    </tr>\n",
       "    <tr>\n",
       "      <th>69</th>\n",
       "      <td>16.0</td>\n",
       "      <td>41.686444</td>\n",
       "    </tr>\n",
       "    <tr>\n",
       "      <th>70</th>\n",
       "      <td>16.5</td>\n",
       "      <td>43.955848</td>\n",
       "    </tr>\n",
       "    <tr>\n",
       "      <th>71</th>\n",
       "      <td>17.0</td>\n",
       "      <td>38.091021</td>\n",
       "    </tr>\n",
       "    <tr>\n",
       "      <th>72</th>\n",
       "      <td>17.5</td>\n",
       "      <td>39.718805</td>\n",
       "    </tr>\n",
       "    <tr>\n",
       "      <th>73</th>\n",
       "      <td>18.0</td>\n",
       "      <td>38.956177</td>\n",
       "    </tr>\n",
       "    <tr>\n",
       "      <th>74</th>\n",
       "      <td>18.5</td>\n",
       "      <td>43.437121</td>\n",
       "    </tr>\n",
       "    <tr>\n",
       "      <th>75</th>\n",
       "      <td>19.0</td>\n",
       "      <td>42.986644</td>\n",
       "    </tr>\n",
       "    <tr>\n",
       "      <th>76</th>\n",
       "      <td>19.5</td>\n",
       "      <td>46.014218</td>\n",
       "    </tr>\n",
       "    <tr>\n",
       "      <th>77</th>\n",
       "      <td>20.0</td>\n",
       "      <td>46.759943</td>\n",
       "    </tr>\n",
       "  </tbody>\n",
       "</table>\n",
       "</div>"
      ],
      "text/plain": [
       "    input     output\n",
       "68   15.5  35.004665\n",
       "69   16.0  41.686444\n",
       "70   16.5  43.955848\n",
       "71   17.0  38.091021\n",
       "72   17.5  39.718805\n",
       "73   18.0  38.956177\n",
       "74   18.5  43.437121\n",
       "75   19.0  42.986644\n",
       "76   19.5  46.014218\n",
       "77   20.0  46.759943"
      ]
     },
     "execution_count": 16,
     "metadata": {},
     "output_type": "execute_result"
    }
   ],
   "source": [
    "df.head(2)\n",
    "df.tail(10)\n"
   ]
  },
  {
   "cell_type": "code",
   "execution_count": null,
   "metadata": {},
   "outputs": [],
   "source": []
  },
  {
   "cell_type": "code",
   "execution_count": 20,
   "metadata": {},
   "outputs": [],
   "source": [
    "x=df.input.values\n",
    "y=df.output.values"
   ]
  },
  {
   "cell_type": "code",
   "execution_count": 44,
   "metadata": {},
   "outputs": [
    {
     "data": {
      "text/plain": [
       "(array([1.77047922]), 7.91931619272691)"
      ]
     },
     "execution_count": 44,
     "metadata": {},
     "output_type": "execute_result"
    }
   ],
   "source": [
    "#actual values from package\n",
    "from sklearn.linear_model import LinearRegression\n",
    "reg = LinearRegression().fit(x.reshape(-1,1), y)\n",
    "reg.coef_,reg.intercept_\n",
    "# vars(reg)"
   ]
  },
  {
   "cell_type": "code",
   "execution_count": 24,
   "metadata": {},
   "outputs": [
    {
     "data": {
      "text/plain": [
       "255.3957979697801"
      ]
     },
     "execution_count": 24,
     "metadata": {},
     "output_type": "execute_result"
    }
   ],
   "source": [
    "#ask is to fit a line using gradient descent\n",
    "# get slope of line\n",
    "#initialise parameters\n",
    "\n",
    "\n",
    "get_mse(y_hat)"
   ]
  },
  {
   "cell_type": "code",
   "execution_count": 32,
   "metadata": {},
   "outputs": [
    {
     "data": {
      "text/plain": [
       "255.3957979697801"
      ]
     },
     "execution_count": 32,
     "metadata": {},
     "output_type": "execute_result"
    }
   ],
   "source": [
    "# from sklearn.metrics import mean_squared_error\n",
    "# mean_squared_error(y,y_hat)"
   ]
  },
  {
   "cell_type": "markdown",
   "metadata": {},
   "source": [
    "Questions\n",
    "# What are the axis'es of the convex cost funciton? what do each point represent\n",
    "# how many dimensions in gradient descent\n",
    "# why is this m - dimensional space\n",
    "# you take derivative on parameters to estimate? or features?\n",
    "# function of m and c, not of x and y\n",
    "#\n"
   ]
  },
  {
   "cell_type": "code",
   "execution_count": null,
   "metadata": {},
   "outputs": [],
   "source": [
    "#Steps in gradient descent\n",
    "#1. know the parameters - m, theta\n",
    "#2. initialise the parameters - init\n",
    "#3. define the cost funciton - \n",
    "#4. define delta of cost funciton update\n",
    "#5. define flow of delta to update\n",
    "#6. terminating condition\n",
    "#7\n"
   ]
  },
  {
   "cell_type": "code",
   "execution_count": 92,
   "metadata": {},
   "outputs": [
    {
     "data": {
      "text/plain": [
       "(1, 1)"
      ]
     },
     "execution_count": 92,
     "metadata": {},
     "output_type": "execute_result"
    },
    {
     "data": {
      "text/plain": [
       "'curr_error: 255.3957979697801, m_delta:-363.99332530428194 m_curr :1, m_next: 1.363993325304282, c_curr = 1'"
      ]
     },
     "execution_count": 92,
     "metadata": {},
     "output_type": "execute_result"
    },
    {
     "data": {
      "text/plain": [
       "'curr_error: 141.7073581782872, m_delta:209.19167315272807 m_curr :1.363993325304282, m_next: 1.1548016521515538, c_curr = 23.374836172610067'"
      ]
     },
     "execution_count": 92,
     "metadata": {},
     "output_type": "execute_result"
    },
    {
     "data": {
      "text/plain": [
       "'curr_error: 104.15663946737386, m_delta:-227.80192850824605 m_curr :1.1548016521515538, m_next: 1.3826035806597998, c_curr = 5.393025136207303'"
      ]
     },
     "execution_count": 92,
     "metadata": {},
     "output_type": "execute_result"
    },
    {
     "data": {
      "text/plain": [
       "'curr_error: 59.62750440450001, m_delta:114.01323349233274 m_curr :1.3826035806597998, m_next: 1.268590347167467, c_curr = 18.590995673936902'"
      ]
     },
     "execution_count": 92,
     "metadata": {},
     "output_type": "execute_result"
    },
    {
     "data": {
      "text/plain": [
       "'curr_error: 48.47326421408741, m_delta:-145.22506793611055 m_curr :1.268590347167467, m_next: 1.4138154151035778, c_curr = 7.787303039546289'"
      ]
     },
     "execution_count": 92,
     "metadata": {},
     "output_type": "execute_result"
    },
    {
     "data": {
      "text/plain": [
       "'curr_error: 30.37601182104384, m_delta:58.8279375421335 m_curr :1.4138154151035778, m_next: 1.3549874775614443, c_curr = 15.541269247278574'"
      ]
     },
     "execution_count": 92,
     "metadata": {},
     "output_type": "execute_result"
    },
    {
     "data": {
      "text/plain": [
       "'curr_error: 27.406420317165182, m_delta:-94.75956196987234 m_curr :1.3549874775614443, m_next: 1.4497470395313168, c_curr = 9.0226897279311'"
      ]
     },
     "execution_count": 92,
     "metadata": {},
     "output_type": "execute_result"
    },
    {
     "data": {
      "text/plain": [
       "'curr_error: 19.701368642258238, m_delta:27.23756344682628 m_curr :1.4497470395313168, m_next: 1.4225094760844905, c_curr = 13.55131844591125'"
      ]
     },
     "execution_count": 92,
     "metadata": {},
     "output_type": "execute_result"
    },
    {
     "data": {
      "text/plain": [
       "'curr_error: 19.06476960647763, m_delta:-63.58280257569739 m_curr :1.4225094760844905, m_next: 1.486092278660188, c_curr = 9.594678560314449'"
      ]
     },
     "execution_count": 92,
     "metadata": {},
     "output_type": "execute_result"
    },
    {
     "data": {
      "text/plain": [
       "'curr_error: 15.595733660605552, m_delta:9.513537883688322 m_curr :1.486092278660188, m_next: 1.4765787407764996, c_curr = 12.216079591821604'"
      ]
     },
     "execution_count": 92,
     "metadata": {},
     "output_type": "execute_result"
    },
    {
     "data": {
      "text/plain": [
       "'curr_error: 15.518070766492723, m_delta:-44.04067274057558 m_curr :1.4765787407764996, m_next: 1.5206194135170752, c_curr = 9.794462855871904'"
      ]
     },
     "execution_count": 92,
     "metadata": {},
     "output_type": "execute_result"
    },
    {
     "data": {
      "text/plain": [
       "'curr_error: 13.853748760785129, m_delta:-0.10844701802571713 m_curr :1.5206194135170752, m_next: 1.520727860535101, c_curr = 11.291225464269516'"
      ]
     },
     "execution_count": 92,
     "metadata": {},
     "output_type": "execute_result"
    },
    {
     "data": {
      "text/plain": [
       "'curr_error: 13.853738669076657, m_delta:-31.557506050708593 m_curr :1.520727860535101, m_next: 1.5522853665858094, c_curr = 9.792185468493365'"
      ]
     },
     "execution_count": 92,
     "metadata": {},
     "output_type": "execute_result"
    },
    {
     "data": {
      "text/plain": [
       "'curr_error: 12.999193909969762, m_delta:-5.037454173712407 m_curr :1.5522853665858094, m_next: 1.5573228207595218, c_curr = 10.628517837204638'"
      ]
     },
     "execution_count": 92,
     "metadata": {},
     "output_type": "execute_result"
    },
    {
     "data": {
      "text/plain": [
       "'curr_error: 12.977419234881879, m_delta:-23.39215379761762 m_curr :1.5573228207595218, m_next: 1.5807149745571394, c_curr = 9.686398930845405'"
      ]
     },
     "execution_count": 92,
     "metadata": {},
     "output_type": "execute_result"
    },
    {
     "data": {
      "text/plain": [
       "'curr_error: 12.507882162204913, m_delta:-7.284123602599321 m_curr :1.5807149745571394, m_next: 1.5879990981597387, c_curr = 10.137282607454667'"
      ]
     },
     "execution_count": 92,
     "metadata": {},
     "output_type": "execute_result"
    },
    {
     "data": {
      "text/plain": [
       "'curr_error: 12.462353584854348, m_delta:-17.89750223760232 m_curr :1.5879990981597387, m_next: 1.605896600397341, c_curr = 9.53343233519082'"
      ]
     },
     "execution_count": 92,
     "metadata": {},
     "output_type": "execute_result"
    },
    {
     "data": {
      "text/plain": [
       "'curr_error: 12.187491828388161, m_delta:-8.029537288404729 m_curr :1.605896600397341, m_next: 1.6139261376857457, c_curr = 9.761435060465018'"
      ]
     },
     "execution_count": 92,
     "metadata": {},
     "output_type": "execute_result"
    },
    {
     "data": {
      "text/plain": [
       "'curr_error: 12.132168219140548, m_delta:-14.07957012965715 m_curr :1.6139261376857457, m_next: 1.6280057078154029, c_curr = 9.364812052134322'"
      ]
     },
     "execution_count": 92,
     "metadata": {},
     "output_type": "execute_result"
    },
    {
     "data": {
      "text/plain": [
       "'curr_error: 11.962066674475125, m_delta:-7.9633260600903055 m_curr :1.6280057078154029, m_next: 1.635969033875493, c_curr = 9.465764087742217'"
      ]
     },
     "execution_count": 92,
     "metadata": {},
     "output_type": "execute_result"
    },
    {
     "data": {
      "text/plain": [
       "'curr_error: 11.907651695784365, m_delta:-11.334888220300297 m_curr :1.635969033875493, m_next: 1.6473039220957935, c_curr = 9.197582204872427'"
      ]
     },
     "execution_count": 92,
     "metadata": {},
     "output_type": "execute_result"
    },
    {
     "data": {
      "text/plain": [
       "'curr_error: 11.797405414294023, m_delta:-7.484535278658566 m_curr :1.6473039220957935, m_next: 1.654788457374452, c_curr = 9.22773143511591'"
      ]
     },
     "execution_count": 92,
     "metadata": {},
     "output_type": "execute_result"
    },
    {
     "data": {
      "text/plain": [
       "'curr_error: 11.749337071871437, m_delta:-9.293988575067543 m_curr :1.654788457374452, m_next: 1.6640824459495196, c_curr = 9.040406964020598'"
      ]
     },
     "execution_count": 92,
     "metadata": {},
     "output_type": "execute_result"
    },
    {
     "data": {
      "text/plain": [
       "'curr_error: 11.675217357808602, m_delta:-6.820879886447416 m_curr :1.6640824459495196, m_next: 1.670903325835967, c_curr = 9.032557675039492'"
      ]
     },
     "execution_count": 92,
     "metadata": {},
     "output_type": "execute_result"
    },
    {
     "data": {
      "text/plain": [
       "'curr_error: 11.63529554349412, m_delta:-7.728059773330825 m_curr :1.670903325835967, m_next: 1.6786313856092978, c_curr = 8.897168486405205'"
      ]
     },
     "execution_count": 92,
     "metadata": {},
     "output_type": "execute_result"
    },
    {
     "data": {
      "text/plain": [
       "'curr_error: 11.584048311641109, m_delta:-6.099480206386004 m_curr :1.6786313856092978, m_next: 1.6847308658156839, c_curr = 8.87026841979954'"
      ]
     },
     "execution_count": 92,
     "metadata": {},
     "output_type": "execute_result"
    },
    {
     "data": {
      "text/plain": [
       "'curr_error: 11.552124472096018, m_delta:-6.493213780104057 m_curr :1.6847308658156839, m_next: 1.691224079595788, c_curr = 8.769079402071098'"
      ]
     },
     "execution_count": 92,
     "metadata": {},
     "output_type": "execute_result"
    },
    {
     "data": {
      "text/plain": [
       "'curr_error: 11.51594611259402, m_delta:-5.388761173579799 m_curr :1.691224079595788, m_next: 1.696612840769368, c_curr = 8.733910930417354'"
      ]
     },
     "execution_count": 92,
     "metadata": {},
     "output_type": "execute_result"
    },
    {
     "data": {
      "text/plain": [
       "'curr_error: 11.491028447784553, m_delta:-5.497156899965464 m_curr :1.696612840769368, m_next: 1.7021099976693335, c_curr = 8.65591541742592'"
      ]
     },
     "execution_count": 92,
     "metadata": {},
     "output_type": "execute_result"
    },
    {
     "data": {
      "text/plain": [
       "'curr_error: 11.465098255799445, m_delta:-4.723220953256601 m_curr :1.7021099976693335, m_next: 1.70683321862259, c_curr = 8.618470635518078'"
      ]
     },
     "execution_count": 92,
     "metadata": {},
     "output_type": "execute_result"
    },
    {
     "data": {
      "text/plain": [
       "'curr_error: 11.445955432454756, m_delta:-4.679213426345412 m_curr :1.70683321862259, m_next: 1.7115124320489354, c_curr = 8.55672777740753'"
      ]
     },
     "execution_count": 92,
     "metadata": {},
     "output_type": "execute_result"
    },
    {
     "data": {
      "text/plain": [
       "'curr_error: 11.427167665016015, m_delta:-4.118029782864532 m_curr :1.7115124320489354, m_next: 1.7156304618318, c_curr = 8.520207153564826'"
      ]
     },
     "execution_count": 92,
     "metadata": {},
     "output_type": "execute_result"
    },
    {
     "data": {
      "text/plain": [
       "'curr_error: 11.412616142582227, m_delta:-3.99831369637461 m_curr :1.7156304618318, m_next: 1.7196287755281745, c_curr = 8.470249151967376'"
      ]
     },
     "execution_count": 92,
     "metadata": {},
     "output_type": "execute_result"
    },
    {
     "data": {
      "text/plain": [
       "'curr_error: 11.398898382721116, m_delta:-3.577597298775038 m_curr :1.7196287755281745, m_next: 1.7232063728269496, c_curr = 8.43624256594096'"
      ]
     },
     "execution_count": 92,
     "metadata": {},
     "output_type": "execute_result"
    },
    {
     "data": {
      "text/plain": [
       "'curr_error: 11.387915600434086, m_delta:-3.4257380343444392 m_curr :1.7232063728269496, m_next: 1.726632110861294, c_curr = 8.3951196086931'"
      ]
     },
     "execution_count": 92,
     "metadata": {},
     "output_type": "execute_result"
    },
    {
     "data": {
      "text/plain": [
       "'curr_error: 11.377845408094064, m_delta:-3.1005677598705597 m_curr :1.726632110861294, m_next: 1.7297326786211646, c_curr = 8.364302067219723'"
      ]
     },
     "execution_count": 92,
     "metadata": {},
     "output_type": "execute_result"
    },
    {
     "data": {
      "text/plain": [
       "'curr_error: 11.369596206435375, m_delta:-2.940705288522633 m_curr :1.7297326786211646, m_next: 1.7326733839096873, c_curr = 8.330007685735819'"
      ]
     },
     "execution_count": 92,
     "metadata": {},
     "output_type": "execute_result"
    },
    {
     "data": {
      "text/plain": [
       "'curr_error: 11.362175718354136, m_delta:-2.6827041252067674 m_curr :1.7326733839096873, m_next: 1.735356088034894, c_curr = 8.302547256160748'"
      ]
     },
     "execution_count": 92,
     "metadata": {},
     "output_type": "execute_result"
    },
    {
     "data": {
      "text/plain": [
       "'curr_error: 11.356000177191078, m_delta:-2.5276667691419163 m_curr :1.735356088034894, m_next: 1.7378837548040358, c_curr = 8.27367089910648'"
      ]
     },
     "execution_count": 92,
     "metadata": {},
     "output_type": "execute_result"
    },
    {
     "data": {
      "text/plain": [
       "'curr_error: 11.350517797570316, m_delta:-2.3185282315524094 m_curr :1.7378837548040358, m_next: 1.740202283035588, c_curr = 8.24946625400877'"
      ]
     },
     "execution_count": 92,
     "metadata": {},
     "output_type": "execute_result"
    },
    {
     "data": {
      "text/plain": [
       "'curr_error: 11.34590510783417, m_delta:-2.174626038226152 m_curr :1.740202283035588, m_next: 1.7423769090738142, c_curr = 8.22498180624388'"
      ]
     },
     "execution_count": 92,
     "metadata": {},
     "output_type": "execute_result"
    },
    {
     "data": {
      "text/plain": [
       "'curr_error: 11.341847233118509, m_delta:-2.002231360838005 m_curr :1.7423769090738142, m_next: 1.7443791404346523, c_curr = 8.203799107206022'"
      ]
     },
     "execution_count": 92,
     "metadata": {},
     "output_type": "execute_result"
    },
    {
     "data": {
      "text/plain": [
       "'curr_error: 11.338407236738625, m_delta:-1.8720787099213552 m_curr :1.7443791404346523, m_next: 1.7462512191445736, c_curr = 8.182934947666281'"
      ]
     },
     "execution_count": 92,
     "metadata": {},
     "output_type": "execute_result"
    },
    {
     "data": {
      "text/plain": [
       "'curr_error: 11.335399930360772, m_delta:-1.7281597301627905 m_curr :1.7462512191445736, m_next: 1.7479793788747364, c_curr = 8.164485454297672'"
      ]
     },
     "execution_count": 92,
     "metadata": {},
     "output_type": "execute_result"
    },
    {
     "data": {
      "text/plain": [
       "'curr_error: 11.332837233549338, m_delta:-1.612329473679244 m_curr :1.7479793788747364, m_next: 1.7495917083484156, c_curr = 8.146643593332863'"
      ]
     },
     "execution_count": 92,
     "metadata": {},
     "output_type": "execute_result"
    },
    {
     "data": {
      "text/plain": [
       "'curr_error: 11.33060655468288, m_delta:-1.4910548423648475 m_curr :1.7495917083484156, m_next: 1.7510827631907804, c_curr = 8.130626535350409'"
      ]
     },
     "execution_count": 92,
     "metadata": {},
     "output_type": "execute_result"
    },
    {
     "data": {
      "text/plain": [
       "'curr_error: 11.328698825594651, m_delta:-1.3890407441249368 m_curr :1.7510827631907804, m_next: 1.7524718039349054, c_curr = 8.115331441643203'"
      ]
     },
     "execution_count": 92,
     "metadata": {},
     "output_type": "execute_result"
    },
    {
     "data": {
      "text/plain": [
       "'curr_error: 11.32704321027445, m_delta:-1.2861546798919727 m_curr :1.7524718039349054, m_next: 1.7537579586147973, c_curr = 8.101456679723782'"
      ]
     },
     "execution_count": 92,
     "metadata": {},
     "output_type": "execute_result"
    },
    {
     "data": {
      "text/plain": [
       "'curr_error: 11.325623774092557, m_delta:-1.196925323440484 m_curr :1.7537579586147973, m_next: 1.7549548839382378, c_curr = 8.088322193365473'"
      ]
     },
     "execution_count": 92,
     "metadata": {},
     "output_type": "execute_result"
    },
    {
     "data": {
      "text/plain": [
       "'curr_error: 11.324394457969463, m_delta:-1.1092178732500162 m_curr :1.7549548839382378, m_next: 1.7560641018114878, c_curr = 8.076321247931533'"
      ]
     },
     "execution_count": 92,
     "metadata": {},
     "output_type": "execute_result"
    },
    {
     "data": {
      "text/plain": [
       "'curr_error: 11.323338702877999, m_delta:-1.0315300948830701 m_curr :1.7560641018114878, m_next: 1.7570956319063709, c_curr = 8.065028618027224'"
      ]
     },
     "execution_count": 92,
     "metadata": {},
     "output_type": "execute_result"
    },
    {
     "data": {
      "text/plain": [
       "'curr_error: 11.322425655585947, m_delta:-0.9565070134717341 m_curr :1.7570956319063709, m_next: 1.7580521389198427, c_curr = 8.054659115938987'"
      ]
     },
     "execution_count": 92,
     "metadata": {},
     "output_type": "execute_result"
    },
    {
     "data": {
      "text/plain": [
       "'curr_error: 11.321640590281678, m_delta:-0.8890784885693814 m_curr :1.7580521389198427, m_next: 1.758941217408412, c_curr = 8.044941970744317'"
      ]
     },
     "execution_count": 92,
     "metadata": {},
     "output_type": "execute_result"
    },
    {
     "data": {
      "text/plain": [
       "'curr_error: 11.320962309250488, m_delta:-0.8247519419347782 m_curr :1.758941217408412, m_next: 1.759765969350347, c_curr = 8.035988467679031'"
      ]
     },
     "execution_count": 92,
     "metadata": {},
     "output_type": "execute_result"
    },
    {
     "data": {
      "text/plain": [
       "'curr_error: 11.320378627438846, m_delta:-0.7663518911045577 m_curr :1.759765969350347, m_next: 1.7605323212414514, c_curr = 8.027622179963684'"
      ]
     },
     "execution_count": 92,
     "metadata": {},
     "output_type": "execute_result"
    },
    {
     "data": {
      "text/plain": [
       "'curr_error: 11.319874679197962, m_delta:-0.7111048213008837 m_curr :1.7605323212414514, m_next: 1.7612434260627523, c_curr = 8.019895077965835'"
      ]
     },
     "execution_count": 92,
     "metadata": {},
     "output_type": "execute_result"
    },
    {
     "data": {
      "text/plain": [
       "'curr_error: 11.31944077214141, m_delta:-0.6605976537604848 m_curr :1.7612434260627523, m_next: 1.761904023716513, c_curr = 8.012688978716367'"
      ]
     },
     "execution_count": 92,
     "metadata": {},
     "output_type": "execute_result"
    },
    {
     "data": {
      "text/plain": [
       "'curr_error: 11.319066313790422, m_delta:-0.6130935007710503 m_curr :1.761904023716513, m_next: 1.762517117217284, c_curr = 8.006022527236862'"
      ]
     },
     "execution_count": 92,
     "metadata": {},
     "output_type": "execute_result"
    },
    {
     "data": {
      "text/plain": [
       "'curr_error: 11.318743774303083, m_delta:-0.5694558815726319 m_curr :1.762517117217284, m_next: 1.7630865730988565, c_curr = 7.999814015200173'"
      ]
     },
     "execution_count": 92,
     "metadata": {},
     "output_type": "execute_result"
    },
    {
     "data": {
      "text/plain": [
       "'curr_error: 11.31846551503884, m_delta:-0.5285766115226533 m_curr :1.7630865730988565, m_next: 1.7636151497103791, c_curr = 7.994063953723839'"
      ]
     },
     "execution_count": 92,
     "metadata": {},
     "output_type": "execute_result"
    },
    {
     "data": {
      "text/plain": [
       "'curr_error: 11.318225772361078, m_delta:-0.49089994463059433 m_curr :1.7636151497103791, m_next: 1.7641060496550098, c_curr = 7.988713906358199'"
      ]
     },
     "execution_count": 92,
     "metadata": {},
     "output_type": "execute_result"
    },
    {
     "data": {
      "text/plain": [
       "'curr_error: 11.318018989074845, m_delta:-0.455702057916615 m_curr :1.7641060496550098, m_next: 1.7645617517129264, c_curr = 7.983755054886594'"
      ]
     },
     "execution_count": 92,
     "metadata": {},
     "output_type": "execute_result"
    },
    {
     "data": {
      "text/plain": [
       "'curr_error: 11.31784079574381, m_delta:-0.42318735044880035 m_curr :1.7645617517129264, m_next: 1.7649849390633752, c_curr = 7.979144163141951'"
      ]
     },
     "execution_count": 92,
     "metadata": {},
     "output_type": "execute_result"
    },
    {
     "data": {
      "text/plain": [
       "'curr_error: 11.317687123716036, m_delta:-0.39286956905683196 m_curr :1.7649849390633752, m_next: 1.765377808632432, c_curr = 7.97486812052717'"
      ]
     },
     "execution_count": 92,
     "metadata": {},
     "output_type": "execute_result"
    },
    {
     "data": {
      "text/plain": [
       "'curr_error: 11.317554681558294, m_delta:-0.3648186747498545 m_curr :1.765377808632432, m_next: 1.765742627307182, c_curr = 7.970893902191756'"
      ]
     },
     "execution_count": 92,
     "metadata": {},
     "output_type": "execute_result"
    },
    {
     "data": {
      "text/plain": [
       "'curr_error: 11.317440476960288, m_delta:-0.3386974247543566 m_curr :1.765742627307182, m_next: 1.7660813247319362, c_curr = 7.967206928357424'"
      ]
     },
     "execution_count": 92,
     "metadata": {},
     "output_type": "execute_result"
    },
    {
     "data": {
      "text/plain": [
       "'curr_error: 11.317342041119351, m_delta:-0.3145029194905854 m_curr :1.7660813247319362, m_next: 1.7663958276514269, c_curr = 7.963781256271916'"
      ]
     },
     "execution_count": 92,
     "metadata": {},
     "output_type": "execute_result"
    },
    {
     "data": {
      "text/plain": [
       "'curr_error: 11.317257166306575, m_delta:-0.29199318120819 m_curr :1.7663958276514269, m_next: 1.766687820832635, c_curr = 7.9606023670481205'"
      ]
     },
     "execution_count": 92,
     "metadata": {},
     "output_type": "execute_result"
    },
    {
     "data": {
      "text/plain": [
       "'curr_error: 11.317184006106238, m_delta:-0.27112810248838953 m_curr :1.766687820832635, m_next: 1.7669589489351234, c_curr = 7.9576493994665425'"
      ]
     },
     "execution_count": 92,
     "metadata": {},
     "output_type": "execute_result"
    },
    {
     "data": {
      "text/plain": [
       "'curr_error: 11.317120928016019, m_delta:-0.2517280833830084 m_curr :1.7669589489351234, m_next: 1.7672106770185063, c_curr = 7.954908676895866'"
      ]
     },
     "execution_count": 92,
     "metadata": {},
     "output_type": "execute_result"
    },
    {
     "data": {
      "text/plain": [
       "'curr_error: 11.317066553825445, m_delta:-0.23373617317050896 m_curr :1.7672106770185063, m_next: 1.7674444131916769, c_curr = 7.9523631097155'"
      ]
     },
     "execution_count": 92,
     "metadata": {},
     "output_type": "execute_result"
    },
    {
     "data": {
      "text/plain": [
       "'curr_error: 11.317019674503086, m_delta:-0.21701479759942963 m_curr :1.7674444131916769, m_next: 1.7676614279892764, c_curr = 7.950000217259285'"
      ]
     },
     "execution_count": 92,
     "metadata": {},
     "output_type": "execute_result"
    },
    {
     "data": {
      "text/plain": [
       "'curr_error: 11.316979262706063, m_delta:-0.20150154837499565 m_curr :1.7676614279892764, m_next: 1.7678629295376513, c_curr = 7.94780579896591'"
      ]
     },
     "execution_count": 92,
     "metadata": {},
     "output_type": "execute_result"
    },
    {
     "data": {
      "text/plain": [
       "'curr_error: 11.316944422056606, m_delta:-0.1870880909003683 m_curr :1.7678629295376513, m_next: 1.7680500176285516, c_curr = 7.9457686847434115'"
      ]
     },
     "execution_count": 92,
     "metadata": {},
     "output_type": "execute_result"
    },
    {
     "data": {
      "text/plain": [
       "'curr_error: 11.316914387463457, m_delta:-0.17371270384773269 m_curr :1.7680500176285516, m_next: 1.7682237303323993, c_curr = 7.943876949057004'"
      ]
     },
     "execution_count": 92,
     "metadata": {},
     "output_type": "execute_result"
    },
    {
     "data": {
      "text/plain": [
       "'curr_error: 11.316888493851996, m_delta:-0.16128810105458458 m_curr :1.7682237303323993, m_next: 1.768385018433454, c_curr = 7.942120717962609'"
      ]
     },
     "execution_count": 92,
     "metadata": {},
     "output_type": "execute_result"
    },
    {
     "data": {
      "text/plain": [
       "'curr_error: 11.31686617179955, m_delta:-0.14975636128803177 m_curr :1.768385018433454, m_next: 1.768534774794742, c_curr = 7.940489898934858'"
      ]
     },
     "execution_count": 92,
     "metadata": {},
     "output_type": "execute_result"
    },
    {
     "data": {
      "text/plain": [
       "'curr_error: 11.31684692759231, m_delta:-0.13904586982099487 m_curr :1.768534774794742, m_next: 1.768673820664563, c_curr = 7.938975834375562'"
      ]
     },
     "execution_count": 92,
     "metadata": {},
     "output_type": "execute_result"
    },
    {
     "data": {
      "text/plain": [
       "'curr_error: 11.316830337620308, m_delta:-0.12910388994931873 m_curr :1.768673820664563, m_next: 1.7688029245545123, c_curr = 7.937569935668617'"
      ]
     },
     "execution_count": 92,
     "metadata": {},
     "output_type": "execute_result"
    },
    {
     "data": {
      "text/plain": [
       "'curr_error: 11.316816035246562, m_delta:-0.11987084514052818 m_curr :1.7688029245545123, m_next: 1.7689227953996527, c_curr = 7.936264652686625'"
      ]
     },
     "execution_count": 92,
     "metadata": {},
     "output_type": "execute_result"
    },
    {
     "data": {
      "text/plain": [
       "'curr_error: 11.316803705430406, m_delta:-0.11129960367992635 m_curr :1.7689227953996527, m_next: 1.7690340950033325, c_curr = 7.935052647920668'"
      ]
     },
     "execution_count": 92,
     "metadata": {},
     "output_type": "execute_result"
    },
    {
     "data": {
      "text/plain": [
       "'curr_error: 11.316793075835774, m_delta:-0.10334009130652004 m_curr :1.7690340950033325, m_next: 1.769137435094639, c_curr = 7.933927361009348'"
      ]
     },
     "execution_count": 92,
     "metadata": {},
     "output_type": "execute_result"
    },
    {
     "data": {
      "text/plain": [
       "'curr_error: 11.316783912214145, m_delta:-0.09595068385244677 m_curr :1.769137435094639, m_next: 1.7692333857784914, c_curr = 7.932882506003234'"
      ]
     },
     "execution_count": 92,
     "metadata": {},
     "output_type": "execute_result"
    },
    {
     "data": {
      "text/plain": [
       "'curr_error: 11.316776012240995, m_delta:-0.0890889778695473 m_curr :1.7692333857784914, m_next: 1.769322474756361, c_curr = 7.931912396648446'"
      ]
     },
     "execution_count": 92,
     "metadata": {},
     "output_type": "execute_result"
    },
    {
     "data": {
      "text/plain": [
       "'curr_error: 11.316769201765737, m_delta:-0.08271849910749532 m_curr :1.769322474756361, m_next: 1.7694051932554684, c_curr = 7.931011637467973'"
      ]
     },
     "execution_count": 92,
     "metadata": {},
     "output_type": "execute_result"
    },
    {
     "data": {
      "text/plain": [
       "'curr_error: 11.316763330459167, m_delta:-0.07680314709394892 m_curr :1.7694051932554684, m_next: 1.7694819964025623, c_curr = 7.93017530816719'"
      ]
     },
     "execution_count": 92,
     "metadata": {},
     "output_type": "execute_result"
    },
    {
     "data": {
      "text/plain": [
       "'curr_error: 11.316758268862927, m_delta:-0.0713111263957543 m_curr :1.7694819964025623, m_next: 1.769553307528958, c_curr = 7.9293987713790015'"
      ]
     },
     "execution_count": 92,
     "metadata": {},
     "output_type": "execute_result"
    },
    {
     "data": {
      "text/plain": [
       "'curr_error: 11.316753905271701, m_delta:-0.06621158587565372 m_curr :1.769553307528958, m_next: 1.7696195191148336, c_curr = 7.92867777451288'"
      ]
     },
     "execution_count": 92,
     "metadata": {},
     "output_type": "execute_result"
    },
    {
     "data": {
      "text/plain": [
       "'curr_error: 11.316750143456591, m_delta:-0.061476905933895626 m_curr :1.7696195191148336, m_next: 1.7696809960207676, c_curr = 7.928008328075613'"
      ]
     },
     "execution_count": 92,
     "metadata": {},
     "output_type": "execute_result"
    },
    {
     "data": {
      "text/plain": [
       "'curr_error: 11.316746900407887, m_delta:-0.05708065113388436 m_curr :1.7696809960207676, m_next: 1.7697380766719015, c_curr = 7.927386759488267'"
      ]
     },
     "execution_count": 92,
     "metadata": {},
     "output_type": "execute_result"
    },
    {
     "data": {
      "text/plain": [
       "'curr_error: 11.316744104600145, m_delta:-0.0529988864695088 m_curr :1.7697380766719015, m_next: 1.769791075558371, c_curr = 7.926809634401801'"
      ]
     },
     "execution_count": 92,
     "metadata": {},
     "output_type": "execute_result"
    },
    {
     "data": {
      "text/plain": [
       "'curr_error: 11.31674169434534, m_delta:-0.049208917977175116 m_curr :1.769791075558371, m_next: 1.7698402844763481, c_curr = 7.926273782872409'"
      ]
     },
     "execution_count": 92,
     "metadata": {},
     "output_type": "execute_result"
    },
    {
     "data": {
      "text/plain": [
       "'curr_error: 11.316739616481442, m_delta:-0.04569003746868488 m_curr :1.7698402844763481, m_next: 1.769885974513817, c_curr = 7.925776247124281'"
      ]
     },
     "execution_count": 92,
     "metadata": {},
     "output_type": "execute_result"
    },
    {
     "data": {
      "text/plain": [
       "'curr_error: 11.316737825164246, m_delta:-0.04242273764685642 m_curr :1.769885974513817, m_next: 1.7699283972514637, c_curr = 7.925314292085564'"
      ]
     },
     "execution_count": 92,
     "metadata": {},
     "output_type": "execute_result"
    },
    {
     "data": {
      "text/plain": [
       "'curr_error: 11.316736280881393, m_delta:-0.039389122100597515 m_curr :1.7699283972514637, m_next: 1.7699677863735643, c_curr = 7.924885369633699'"
      ]
     },
     "execution_count": 92,
     "metadata": {},
     "output_type": "execute_result"
    },
    {
     "data": {
      "text/plain": [
       "'curr_error: 11.316734949562575, m_delta:-0.03657240763495049 m_curr :1.7699677863735643, m_next: 1.7700043587811993, c_curr = 7.924487120521449'"
      ]
     },
     "execution_count": 92,
     "metadata": {},
     "output_type": "execute_result"
    },
    {
     "data": {
      "text/plain": [
       "'curr_error: 11.31673380184094, m_delta:-0.03395713967763378 m_curr :1.7700043587811993, m_next: 1.770038315920877, c_curr = 7.924117349073366'"
      ]
     },
     "execution_count": 92,
     "metadata": {},
     "output_type": "execute_result"
    },
    {
     "data": {
      "text/plain": [
       "'curr_error: 11.316732812395916, m_delta:-0.03152886972056825 m_curr :1.770038315920877, m_next: 1.7700698447905976, c_curr = 7.923774020588217'"
      ]
     },
     "execution_count": 92,
     "metadata": {},
     "output_type": "execute_result"
    },
    {
     "data": {
      "text/plain": [
       "'curr_error: 11.316731959401334, m_delta:-0.029274258890172888 m_curr :1.7700698447905976, m_next: 1.7700991190494877, c_curr = 7.9234552428092355'"
      ]
     },
     "execution_count": 92,
     "metadata": {},
     "output_type": "execute_result"
    },
    {
     "data": {
      "text/plain": [
       "'curr_error: 11.316731224039168, m_delta:-0.027180863220463855 m_curr :1.7700991190494877, m_next: 1.770126299912708, c_curr = 7.923159261151524'"
      ]
     },
     "execution_count": 92,
     "metadata": {},
     "output_type": "execute_result"
    },
    {
     "data": {
      "text/plain": [
       "'curr_error: 11.316730590087774, m_delta:-0.025237174078009742 m_curr :1.770126299912708, m_next: 1.7701515370867862, c_curr = 7.922884444681606'"
      ]
     },
     "execution_count": 92,
     "metadata": {},
     "output_type": "execute_result"
    },
    {
     "data": {
      "text/plain": [
       "'curr_error: 11.31673004356167, m_delta:-0.023432470735676027 m_curr :1.7701515370867862, m_next: 1.770174969557522, c_curr = 7.922629280495884'"
      ]
     },
     "execution_count": 92,
     "metadata": {},
     "output_type": "execute_result"
    },
    {
     "data": {
      "text/plain": [
       "'curr_error: 11.316729572404684, m_delta:-0.021756826152797296 m_curr :1.770174969557522, m_next: 1.7701967263836749, c_curr = 7.922392362796155'"
      ]
     },
     "execution_count": 92,
     "metadata": {},
     "output_type": "execute_result"
    },
    {
     "data": {
      "text/plain": [
       "'curr_error: 11.316729166222805, m_delta:-0.020201002302201232 m_curr :1.7701967263836749, m_next: 1.7702169273859771, c_curr = 7.922172387146673'"
      ]
     },
     "execution_count": 92,
     "metadata": {},
     "output_type": "execute_result"
    },
    {
     "data": {
      "text/plain": [
       "'curr_error: 11.316728816055733, m_delta:-0.018756437858256775 m_curr :1.7702169273859771, m_next: 1.7702356838238353, c_curr = 7.921968141747807'"
      ]
     },
     "execution_count": 92,
     "metadata": {},
     "output_type": "execute_result"
    },
    {
     "data": {
      "text/plain": [
       "'curr_error: 11.316728514178614, m_delta:-0.017415171298775334 m_curr :1.7702356838238353, m_next: 1.7702530989951342, c_curr = 7.921778501951652'"
      ]
     },
     "execution_count": 92,
     "metadata": {},
     "output_type": "execute_result"
    },
    {
     "data": {
      "text/plain": [
       "'curr_error: 11.316728253932068, m_delta:-0.016169820001981458 m_curr :1.7702530989951342, m_next: 1.7702692688151362, c_curr = 7.9216024231505315'"
      ]
     },
     "execution_count": 92,
     "metadata": {},
     "output_type": "execute_result"
    },
    {
     "data": {
      "text/plain": [
       "'curr_error: 11.31672802957496, m_delta:-0.015013521888799885 m_curr :1.7702692688151362, m_next: 1.770284282337025, c_curr = 7.921438935731607'"
      ]
     },
     "execution_count": 92,
     "metadata": {},
     "output_type": "execute_result"
    },
    {
     "data": {
      "text/plain": [
       "'curr_error: 11.316727836157972, m_delta:-0.013939911281576145 m_curr :1.770284282337025, m_next: 1.7702982222483066, c_curr = 7.921287139190866'"
      ]
     },
     "execution_count": 92,
     "metadata": {},
     "output_type": "execute_result"
    },
    {
     "data": {
      "text/plain": [
       "'curr_error: 11.316727669414245, m_delta:-0.012943073315753395 m_curr :1.7702982222483066, m_next: 1.7703111653216224, c_curr = 7.9211461975946955'"
      ]
     },
     "execution_count": 92,
     "metadata": {},
     "output_type": "execute_result"
    },
    {
     "data": {
      "text/plain": [
       "'curr_error: 11.31672752566543, m_delta:-0.012017519485639401 m_curr :1.7703111653216224, m_next: 1.770323182841108, c_curr = 7.921015334651235'"
      ]
     },
     "execution_count": 92,
     "metadata": {},
     "output_type": "execute_result"
    },
    {
     "data": {
      "text/plain": [
       "'curr_error: 11.316727401740371, m_delta:-0.011158151152142472 m_curr :1.770323182841108, m_next: 1.77033434099226, c_curr = 7.920893829685498'"
      ]
     },
     "execution_count": 92,
     "metadata": {},
     "output_type": "execute_result"
    },
    {
     "data": {
      "text/plain": [
       "'curr_error: 11.316727294905272, m_delta:-0.01036023629438814 m_curr :1.77033434099226, m_next: 1.7703447012285545, c_curr = 7.920781013477041'"
      ]
     },
     "execution_count": 92,
     "metadata": {},
     "output_type": "execute_result"
    },
    {
     "data": {
      "text/plain": [
       "'curr_error: 11.316727202803328, m_delta:-0.00961937972104283 m_curr :1.7703447012285545, m_next: 1.7703543206082755, c_curr = 7.9206762647233155'"
      ]
     },
     "execution_count": 92,
     "metadata": {},
     "output_type": "execute_result"
    },
    {
     "data": {
      "text/plain": [
       "'curr_error: 11.316727123402764, m_delta:-0.008931501738972659 m_curr :1.7703543206082755, m_next: 1.7703632521100143, c_curr = 7.9205790065029'"
      ]
     },
     "execution_count": 92,
     "metadata": {},
     "output_type": "execute_result"
    },
    {
     "data": {
      "text/plain": [
       "'curr_error: 11.316727054951976, m_delta:-0.008292813466862997 m_curr :1.7703632521100143, m_next: 1.7703715449234811, c_curr = 7.9204887031868'"
      ]
     },
     "execution_count": 92,
     "metadata": {},
     "output_type": "execute_result"
    },
    {
     "data": {
      "text/plain": [
       "'curr_error: 11.316726995940932, m_delta:-0.007699797678631771 m_curr :1.7703715449234811, m_next: 1.7703792447211597, c_curr = 7.920404857420096'"
      ]
     },
     "execution_count": 92,
     "metadata": {},
     "output_type": "execute_result"
    },
    {
     "data": {
      "text/plain": [
       "'curr_error: 11.31672694506785, m_delta:-0.00714918811299379 m_curr :1.7703792447211597, m_next: 1.7703863939092728, c_curr = 7.92032700743555'"
      ]
     },
     "execution_count": 92,
     "metadata": {},
     "output_type": "execute_result"
    },
    {
     "data": {
      "text/plain": [
       "'curr_error: 11.31672690121045, m_delta:-0.006637952502645615 m_curr :1.7703863939092728, m_next: 1.7703930318617753, c_curr = 7.9202547244697215'"
      ]
     },
     "execution_count": 92,
     "metadata": {},
     "output_type": "execute_result"
    },
    {
     "data": {
      "text/plain": [
       "'curr_error: 11.316726863401225, m_delta:-0.006163275088574402 m_curr :1.7703930318617753, m_next: 1.7703991951368638, c_curr = 7.920187610432996'"
      ]
     },
     "execution_count": 92,
     "metadata": {},
     "output_type": "execute_result"
    },
    {
     "data": {
      "text/plain": [
       "'curr_error: 11.316726830806108, m_delta:-0.005722541718726531 m_curr :1.7703991951368638, m_next: 1.7704049176785825, c_curr = 7.920125295692864'"
      ]
     },
     "execution_count": 92,
     "metadata": {},
     "output_type": "execute_result"
    },
    {
     "data": {
      "text/plain": [
       "'curr_error: 11.316726802706027, m_delta:-0.005313324982744496 m_curr :1.7704049176785825, m_next: 1.7704102310035652, c_curr = 7.920067437056903'"
      ]
     },
     "execution_count": 92,
     "metadata": {},
     "output_type": "execute_result"
    },
    {
     "data": {
      "text/plain": [
       "'curr_error: 11.316726778481119, m_delta:-0.004933371204018773 m_curr :1.7704102310035652, m_next: 1.7704151643747692, c_curr = 7.920013715868228'"
      ]
     },
     "execution_count": 92,
     "metadata": {},
     "output_type": "execute_result"
    },
    {
     "data": {
      "text/plain": [
       "'curr_error: 11.316726757596964, m_delta:-0.004580587749399657 m_curr :1.7704151643747692, m_next: 1.7704197449625185, c_curr = 7.919963836261618'"
      ]
     },
     "execution_count": 92,
     "metadata": {},
     "output_type": "execute_result"
    },
    {
     "data": {
      "text/plain": [
       "'curr_error: 11.316726739592841, m_delta:-0.00425303171852293 m_curr :1.7704197449625185, m_next: 1.770423997994237, c_curr = 7.919917523525493'"
      ]
     },
     "execution_count": 92,
     "metadata": {},
     "output_type": "execute_result"
    },
    {
     "data": {
      "text/plain": [
       "'curr_error: 11.316726724071584, m_delta:-0.003948899078330634 m_curr :1.770423997994237, m_next: 1.7704279468933155, c_curr = 7.919874522595528'"
      ]
     },
     "execution_count": 92,
     "metadata": {},
     "output_type": "execute_result"
    },
    {
     "data": {
      "text/plain": [
       "'curr_error: 11.316726710690807, m_delta:-0.0036665148542293735 m_curr :1.7704279468933155, m_next: 1.7704316134081697, c_curr = 7.919834596644846'"
      ]
     },
     "execution_count": 92,
     "metadata": {},
     "output_type": "execute_result"
    },
    {
     "data": {
      "text/plain": [
       "'curr_error: 11.316726699155314, m_delta:-0.003404323807832299 m_curr :1.7704316134081697, m_next: 1.7704350177319774, c_curr = 7.91979752578359'"
      ]
     },
     "execution_count": 92,
     "metadata": {},
     "output_type": "execute_result"
    },
    {
     "data": {
      "text/plain": [
       "'curr_error: 11.316726689210617, m_delta:-0.0031608819465720928 m_curr :1.7704350177319774, m_next: 1.770438178613924, c_curr = 7.919763105844884'"
      ]
     },
     "execution_count": 92,
     "metadata": {},
     "output_type": "execute_result"
    },
    {
     "data": {
      "text/plain": [
       "'curr_error: 11.316726680637354, m_delta:-0.0029348485130159274 m_curr :1.770438178613924, m_next: 1.7704411134624372, c_curr = 7.919731147262711'"
      ]
     },
     "execution_count": 92,
     "metadata": {},
     "output_type": "execute_result"
    },
    {
     "data": {
      "text/plain": [
       "'curr_error: 11.316726673246395, m_delta:-0.0027249786453459805 m_curr :1.7704411134624372, m_next: 1.7704438384410826, c_curr = 7.919701474026109'"
      ]
     },
     "execution_count": 92,
     "metadata": {},
     "output_type": "execute_result"
    },
    {
     "data": {
      "text/plain": [
       "'curr_error: 11.316726666874692, m_delta:-0.002530116487154379 m_curr :1.7704438384410826, m_next: 1.7704463685575698, c_curr = 7.919673922711158'"
      ]
     },
     "execution_count": 92,
     "metadata": {},
     "output_type": "execute_result"
    },
    {
     "data": {
      "text/plain": [
       "'curr_error: 11.31672666138168, m_delta:-0.0023491888477331292 m_curr :1.7704463685575698, m_next: 1.7704487177464174, c_curr = 7.919648341579878'"
      ]
     },
     "execution_count": 92,
     "metadata": {},
     "output_type": "execute_result"
    },
    {
     "data": {
      "text/plain": [
       "'curr_error: 11.316726656646187, m_delta:-0.0021811992714362576 m_curr :1.7704487177464174, m_next: 1.7704508989456889, c_curr = 7.919624589745356'"
      ]
     },
     "execution_count": 92,
     "metadata": {},
     "output_type": "execute_result"
    },
    {
     "data": {
      "text/plain": [
       "'curr_error: 11.31672665256374, m_delta:-0.002025222565290272 m_curr :1.7704508989456889, m_next: 1.770452924168254, c_curr = 7.919602536395177'"
      ]
     },
     "execution_count": 92,
     "metadata": {},
     "output_type": "execute_result"
    },
    {
     "data": {
      "text/plain": [
       "'curr_error: 11.316726649044293, m_delta:-0.00188039969135463 m_curr :1.770452924168254, m_next: 1.7704548045679454, c_curr = 7.919582060071488'"
      ]
     },
     "execution_count": 92,
     "metadata": {},
     "output_type": "execute_result"
    },
    {
     "data": {
      "text/plain": [
       "'curr_error: 11.316726646010197, m_delta:-0.0017459330453904478 m_curr :1.7704548045679454, m_next: 1.7704565505009908, c_curr = 7.919563048001659'"
      ]
     },
     "execution_count": 92,
     "metadata": {},
     "output_type": "execute_result"
    },
    {
     "data": {
      "text/plain": [
       "'curr_error: 11.316726643394512, m_delta:-0.001621082055937706 m_curr :1.7704565505009908, m_next: 1.7704581715830467, c_curr = 7.9195453954775346'"
      ]
     },
     "execution_count": 92,
     "metadata": {},
     "output_type": "execute_result"
    },
    {
     "data": {
      "text/plain": [
       "'curr_error: 11.31672664113955, m_delta:-0.0015051591124630155 m_curr :1.7704581715830467, m_next: 1.7704596767421592, c_curr = 7.919529005278483'"
      ]
     },
     "execution_count": 92,
     "metadata": {},
     "output_type": "execute_result"
    },
    {
     "data": {
      "text/plain": [
       "'curr_error: 11.316726639195563, m_delta:-0.0013975257728887777 m_curr :1.7704596767421592, m_next: 1.770461074267932, c_curr = 7.919513787136173'"
      ]
     },
     "execution_count": 92,
     "metadata": {},
     "output_type": "execute_result"
    },
    {
     "data": {
      "text/plain": [
       "'curr_error: 11.316726637519654, m_delta:-0.0012975892516978184 m_curr :1.770461074267932, m_next: 1.7704623718571837, c_curr = 7.919499657237252'"
      ]
     },
     "execution_count": 92,
     "metadata": {},
     "output_type": "execute_result"
    },
    {
     "data": {
      "text/plain": [
       "'curr_error: 11.316726636074868, m_delta:-0.001204799151721749 m_curr :1.7704623718571837, m_next: 1.7704635766563355, c_curr = 7.91948653776189'"
      ]
     },
     "execution_count": 92,
     "metadata": {},
     "output_type": "execute_result"
    },
    {
     "data": {
      "text/plain": [
       "'curr_error: 11.316726634829323, m_delta:-0.001118644435803818 m_curr :1.7704635766563355, m_next: 1.7704646953007712, c_curr = 7.919474356455065'"
      ]
     },
     "execution_count": 92,
     "metadata": {},
     "output_type": "execute_result"
    },
    {
     "data": {
      "text/plain": [
       "'curr_error: 11.31672663375555, m_delta:-0.0010386506096044567 m_curr :1.7704646953007712, m_next: 1.7704657339513807, c_curr = 7.91946304622874'"
      ]
     },
     "execution_count": 92,
     "metadata": {},
     "output_type": "execute_result"
    },
    {
     "data": {
      "text/plain": [
       "'curr_error: 11.31672663282985, m_delta:-0.0009643771109353611 m_curr :1.7704657339513807, m_next: 1.7704666983284916, c_curr = 7.919452544792264'"
      ]
     },
     "execution_count": 92,
     "metadata": {},
     "output_type": "execute_result"
    },
    {
     "data": {
      "text/plain": [
       "'curr_error: 11.316726632031818, m_delta:-0.0008954148808715427 m_curr :1.7704666983284916, m_next: 1.7704675937433725, c_curr = 7.919442794309412'"
      ]
     },
     "execution_count": 92,
     "metadata": {},
     "output_type": "execute_result"
    },
    {
     "data": {
      "text/plain": [
       "'curr_error: 11.316726631343833, m_delta:-0.0008313841130718658 m_curr :1.7704675937433725, m_next: 1.7704684251274856, c_curr = 7.919433741079766'"
      ]
     },
     "execution_count": 92,
     "metadata": {},
     "output_type": "execute_result"
    },
    {
     "data": {
      "text/plain": [
       "'curr_error: 11.316726630750725, m_delta:-0.0007719321602964194 m_curr :1.7704684251274856, m_next: 1.7704691970596458, c_curr = 7.919425335243036'"
      ]
     },
     "execution_count": 92,
     "metadata": {},
     "output_type": "execute_result"
    },
    {
     "data": {
      "text/plain": [
       "'curr_error: 11.31672663023941, m_delta:-0.0007167315934723115 m_curr :1.7704691970596458, m_next: 1.7704699137912392, c_curr = 7.919417530504402'"
      ]
     },
     "execution_count": 92,
     "metadata": {},
     "output_type": "execute_result"
    },
    {
     "data": {
      "text/plain": [
       "'curr_error: 11.31672662979861, m_delta:-0.0006654783975801155 m_curr :1.7704699137912392, m_next: 1.7704705792696367, c_curr = 7.919410283879575'"
      ]
     },
     "execution_count": 92,
     "metadata": {},
     "output_type": "execute_result"
    },
    {
     "data": {
      "text/plain": [
       "'curr_error: 11.316726629418602, m_delta:-0.000617890297696077 m_curr :1.7704705792696367, m_next: 1.7704711971599343, c_curr = 7.919403555458055'"
      ]
     },
     "execution_count": 92,
     "metadata": {},
     "output_type": "execute_result"
    },
    {
     "data": {
      "text/plain": [
       "'curr_error: 11.316726629090988, m_delta:-0.0005737052042152941 m_curr :1.7704711971599343, m_next: 1.7704717708651385, c_curr = 7.919397308183324'"
      ]
     },
     "execution_count": 92,
     "metadata": {},
     "output_type": "execute_result"
    },
    {
     "data": {
      "text/plain": [
       "'curr_error: 11.316726628808564, m_delta:-0.0005326797694869046 m_curr :1.7704717708651385, m_next: 1.770472303544908, c_curr = 7.919391507648766'"
      ]
     },
     "execution_count": 92,
     "metadata": {},
     "output_type": "execute_result"
    },
    {
     "data": {
      "text/plain": [
       "'curr_error: 11.316726628565085, m_delta:-0.0004945880474903602 m_curr :1.770472303544908, m_next: 1.7704727981329553, c_curr = 7.919386121908168'"
      ]
     },
     "execution_count": 92,
     "metadata": {},
     "output_type": "execute_result"
    },
    {
     "data": {
      "text/plain": [
       "'curr_error: 11.316726628355182, m_delta:-0.00045922024972683696 m_curr :1.7704727981329553, m_next: 1.7704732573532052, c_curr = 7.91938112129977'"
      ]
     },
     "execution_count": 92,
     "metadata": {},
     "output_type": "execute_result"
    },
    {
     "data": {
      "text/plain": [
       "'curr_error: 11.316726628174225, m_delta:-0.00042638158929920474 m_curr :1.7704732573532052, m_next: 1.7704736837347945, c_curr = 7.9193764782829215'"
      ]
     },
     "execution_count": 92,
     "metadata": {},
     "output_type": "execute_result"
    },
    {
     "data": {
      "text/plain": [
       "'curr_error: 11.316726628018227, m_delta:-0.0003958912086250603 m_curr :1.7704736837347945, m_next: 1.7704740796260032, c_curr = 7.919372167286393'"
      ]
     },
     "execution_count": 92,
     "metadata": {},
     "output_type": "execute_result"
    },
    {
     "data": {
      "text/plain": [
       "'curr_error: 11.316726627883739, m_delta:-0.0003675811831421254 m_curr :1.7704740796260032, m_next: 1.7704744472071863, c_curr = 7.91936816456754'"
      ]
     },
     "execution_count": 92,
     "metadata": {},
     "output_type": "execute_result"
    },
    {
     "data": {
      "text/plain": [
       "'curr_error: 11.316726627767792, m_delta:-0.0003412955965018956 m_curr :1.7704744472071863, m_next: 1.7704747885027827, c_curr = 7.919364448081549'"
      ]
     },
     "execution_count": 92,
     "metadata": {},
     "output_type": "execute_result"
    },
    {
     "data": {
      "text/plain": [
       "'curr_error: 11.316726627667846, m_delta:-0.0003168896819210122 m_curr :1.7704747885027827, m_next: 1.7704751053924646, c_curr = 7.919360997360014'"
      ]
     },
     "execution_count": 92,
     "metadata": {},
     "output_type": "execute_result"
    },
    {
     "data": {
      "text/plain": [
       "'curr_error: 11.316726627581671, m_delta:-0.00029422902471036393 m_curr :1.7704751053924646, m_next: 1.7704753996214893, c_curr = 7.9193577933982295'"
      ]
     },
     "execution_count": 92,
     "metadata": {},
     "output_type": "execute_result"
    },
    {
     "data": {
      "text/plain": [
       "'curr_error: 11.316726627507395, m_delta:-0.0002731888222750711 m_curr :1.7704753996214893, m_next: 1.7704756728103115, c_curr = 7.919354818550495'"
      ]
     },
     "execution_count": 92,
     "metadata": {},
     "output_type": "execute_result"
    },
    {
     "data": {
      "text/plain": [
       "'curr_error: 11.316726627443355, m_delta:-0.00025365319640094147 m_curr :1.7704756728103115, m_next: 1.770475926463508, c_curr = 7.919352056432964'"
      ]
     },
     "execution_count": 92,
     "metadata": {},
     "output_type": "execute_result"
    },
    {
     "data": {
      "text/plain": [
       "'curr_error: 11.316726627388146, m_delta:-0.00023551455562690138 m_curr :1.770475926463508, m_next: 1.7704761619780636, c_curr = 7.919349491833369'"
      ]
     },
     "execution_count": 92,
     "metadata": {},
     "output_type": "execute_result"
    },
    {
     "data": {
      "text/plain": [
       "'curr_error: 11.316726627340547, m_delta:-0.00021867300179132177 m_curr :1.7704761619780636, m_next: 1.7704763806510653, c_curr = 7.919347110627296'"
      ]
     },
     "execution_count": 92,
     "metadata": {},
     "output_type": "execute_result"
    },
    {
     "data": {
      "text/plain": [
       "'curr_error: 11.316726627299516, m_delta:-0.0002030357810207889 m_curr :1.7704763806510653, m_next: 1.7704765836868464, c_curr = 7.9193448997003335'"
      ]
     },
     "execution_count": 92,
     "metadata": {},
     "output_type": "execute_result"
    },
    {
     "data": {
      "text/plain": [
       "'curr_error: 11.316726627264146, m_delta:-0.0001885167717396085 m_curr :1.7704765836868464, m_next: 1.770476772203618, c_curr = 7.919342846875893'"
      ]
     },
     "execution_count": 92,
     "metadata": {},
     "output_type": "execute_result"
    },
    {
     "data": {
      "text/plain": [
       "'curr_error: 11.31672662723365, m_delta:-0.00017503601112368053 m_curr :1.770476772203618, m_next: 1.7704769472396291, c_curr = 7.919340940848127'"
      ]
     },
     "execution_count": 92,
     "metadata": {},
     "output_type": "execute_result"
    },
    {
     "data": {
      "text/plain": [
       "'curr_error: 11.316726627207357, m_delta:-0.00016251925443319017 m_curr :1.7704769472396291, m_next: 1.7704771097588836, c_curr = 7.919339171119662'"
      ]
     },
     "execution_count": 92,
     "metadata": {},
     "output_type": "execute_result"
    },
    {
     "data": {
      "text/plain": [
       "'curr_error: 11.316726627184696, m_delta:-0.0001508975661601233 m_curr :1.7704771097588836, m_next: 1.7704772606564498, c_curr = 7.9193375279437825'"
      ]
     },
     "execution_count": 92,
     "metadata": {},
     "output_type": "execute_result"
    },
    {
     "data": {
      "text/plain": [
       "'curr_error: 11.316726627165155, m_delta:-0.00014010694018268692 m_curr :1.7704772606564498, m_next: 1.77047740076339, c_curr = 7.9193360022707715'"
      ]
     },
     "execution_count": 92,
     "metadata": {},
     "output_type": "execute_result"
    },
    {
     "data": {
      "text/plain": [
       "'curr_error: 11.316726627148316, m_delta:-0.0001300879477332874 m_curr :1.77047740076339, m_next: 1.7704775308513379, c_curr = 7.919334585698036'"
      ]
     },
     "execution_count": 92,
     "metadata": {},
     "output_type": "execute_result"
    },
    {
     "data": {
      "text/plain": [
       "'curr_error: 11.316726627133791, m_delta:-0.0001207854094178337 m_curr :1.7704775308513379, m_next: 1.7704776516367473, c_curr = 7.919333270423868'"
      ]
     },
     "execution_count": 92,
     "metadata": {},
     "output_type": "execute_result"
    },
    {
     "data": {
      "text/plain": [
       "'curr_error: 11.316726627121273, m_delta:-0.00011214809208253813 m_curr :1.7704776516367473, m_next: 1.7704777637848395, c_curr = 7.919332049204438'"
      ]
     },
     "execution_count": 92,
     "metadata": {},
     "output_type": "execute_result"
    },
    {
     "data": {
      "text/plain": [
       "'curr_error: 11.316726627110482, m_delta:-0.00010412842582332779 m_curr :1.7704777637848395, m_next: 1.7704778679132653, c_curr = 7.919330915313934'"
      ]
     },
     "execution_count": 92,
     "metadata": {},
     "output_type": "execute_result"
    },
    {
     "data": {
      "text/plain": [
       "'curr_error: 11.316726627101174, m_delta:-9.668224289600566e-05 m_curr :1.7704778679132653, m_next: 1.7704779645955082, c_curr = 7.919329862507493'"
      ]
     },
     "execution_count": 92,
     "metadata": {},
     "output_type": "execute_result"
    },
    {
     "data": {
      "text/plain": [
       "'curr_error: 11.316726627093157, m_delta:-8.9768533455707e-05 m_curr :1.7704779645955082, m_next: 1.7704780543640417, c_curr = 7.919328884986834'"
      ]
     },
     "execution_count": 92,
     "metadata": {},
     "output_type": "execute_result"
    },
    {
     "data": {
      "text/plain": [
       "'curr_error: 11.316726627086236, m_delta:-8.334922079510622e-05 m_curr :1.7704780543640417, m_next: 1.7704781377132626, c_curr = 7.91932797736829'"
      ]
     },
     "execution_count": 92,
     "metadata": {},
     "output_type": "execute_result"
    },
    {
     "data": {
      "text/plain": [
       "'curr_error: 11.31672662708028, m_delta:-7.738895058468806e-05 m_curr :1.7704781377132626, m_next: 1.7704782151022131, c_curr = 7.919327134653196'"
      ]
     },
     "execution_count": 92,
     "metadata": {},
     "output_type": "execute_result"
    },
    {
     "data": {
      "text/plain": [
       "'curr_error: 11.31672662707514, m_delta:-7.18548970013444e-05 m_curr :1.7704782151022131, m_next: 1.77047828695711, c_curr = 7.919326352200328'"
      ]
     },
     "execution_count": 92,
     "metadata": {},
     "output_type": "execute_result"
    },
    {
     "data": {
      "text/plain": [
       "'curr_error: 11.31672662707071, m_delta:-6.671658142738287e-05 m_curr :1.77047828695711, m_next: 1.7704783536736914, c_curr = 7.91932562570036'"
      ]
     },
     "execution_count": 92,
     "metadata": {},
     "output_type": "execute_result"
    },
    {
     "data": {
      "text/plain": [
       "'curr_error: 11.316726627066892, m_delta:-6.194570477300834e-05 m_curr :1.7704783536736914, m_next: 1.7704784156193962, c_curr = 7.91932495115212'"
      ]
     },
     "execution_count": 92,
     "metadata": {},
     "output_type": "execute_result"
    },
    {
     "data": {
      "text/plain": [
       "'curr_error: 11.316726627063598, m_delta:-5.7515991682722553e-05 m_curr :1.7704784156193962, m_next: 1.770478473135388, c_curr = 7.9193243248405585'"
      ]
     },
     "execution_count": 92,
     "metadata": {},
     "output_type": "execute_result"
    },
    {
     "data": {
      "text/plain": [
       "'curr_error: 11.316726627060758, m_delta:-5.340304559189381e-05 m_curr :1.770478473135388, m_next: 1.7704785265384335, c_curr = 7.919323743316294'"
      ]
     },
     "execution_count": 92,
     "metadata": {},
     "output_type": "execute_result"
    },
    {
     "data": {
      "text/plain": [
       "'curr_error: 11.316726627058308, m_delta:-4.9584214698355914e-05 m_curr :1.7704785265384335, m_next: 1.7704785761226483, c_curr = 7.919323203376602'"
      ]
     },
     "execution_count": 92,
     "metadata": {},
     "output_type": "execute_result"
    },
    {
     "data": {
      "text/plain": [
       "'curr_error: 11.316726627056202, m_delta:-4.6038466910530566e-05 m_curr :1.7704785761226483, m_next: 1.770478622161115, c_curr = 7.9193227020477845'"
      ]
     },
     "execution_count": 92,
     "metadata": {},
     "output_type": "execute_result"
    },
    {
     "data": {
      "text/plain": [
       "'curr_error: 11.316726627054384, m_delta:-4.2746274108760816e-05 m_curr :1.770478622161115, m_next: 1.7704786649073891, c_curr = 7.919322236568799'"
      ]
     },
     "execution_count": 92,
     "metadata": {},
     "output_type": "execute_result"
    },
    {
     "data": {
      "text/plain": [
       "'curr_error: 11.316726627052812, m_delta:-3.9689504828944475e-05 m_curr :1.7704786649073891, m_next: 1.770478704596894, c_curr = 7.919321804376029'"
      ]
     },
     "execution_count": 92,
     "metadata": {},
     "output_type": "execute_result"
    },
    {
     "data": {
      "text/plain": [
       "'curr_error: 11.316726627051462, m_delta:-3.6851323828958084e-05 m_curr :1.770478704596894, m_next: 1.7704787414482177, c_curr = 7.9193214030891985'"
      ]
     },
     "execution_count": 92,
     "metadata": {},
     "output_type": "execute_result"
    },
    {
     "data": {
      "text/plain": [
       "'curr_error: 11.316726627050299, m_delta:-3.421610010507382e-05 m_curr :1.7704787414482177, m_next: 1.7704787756643179, c_curr = 7.91932103049823'"
      ]
     },
     "execution_count": 92,
     "metadata": {},
     "output_type": "execute_result"
    },
    {
     "data": {
      "text/plain": [
       "'curr_error: 11.316726627049297, m_delta:-3.176932016639255e-05 m_curr :1.7704787756643179, m_next: 1.770478807433638, c_curr = 7.919320684551095'"
      ]
     },
     "execution_count": 92,
     "metadata": {},
     "output_type": "execute_result"
    },
    {
     "data": {
      "text/plain": [
       "'curr_error: 11.316726627048428, m_delta:-2.9497508483936705e-05 m_curr :1.770478807433638, m_next: 1.7704788369311464, c_curr = 7.919320363342508'"
      ]
     },
     "execution_count": 92,
     "metadata": {},
     "output_type": "execute_result"
    },
    {
     "data": {
      "text/plain": [
       "'curr_error: 11.31672662704768, m_delta:-2.7388153234926158e-05 m_curr :1.7704788369311464, m_next: 1.7704788643192997, c_curr = 7.919320065103417'"
      ]
     },
     "execution_count": 92,
     "metadata": {},
     "output_type": "execute_result"
    },
    {
     "data": {
      "text/plain": [
       "'curr_error: 11.316726627047036, m_delta:-2.5429637072959802e-05 m_curr :1.7704788643192997, m_next: 1.7704788897489367, c_curr = 7.91931978819129'"
      ]
     },
     "execution_count": 92,
     "metadata": {},
     "output_type": "execute_result"
    },
    {
     "data": {
      "text/plain": [
       "'curr_error: 11.316726627046483, m_delta:-2.3611173704606557e-05 m_curr :1.7704788897489367, m_next: 1.7704789133601104, c_curr = 7.919319531081038'"
      ]
     },
     "execution_count": 92,
     "metadata": {},
     "output_type": "execute_result"
    },
    {
     "data": {
      "text/plain": [
       "'curr_error: 11.316726627046002, m_delta:-2.192274787514401e-05 m_curr :1.7704789133601104, m_next: 1.7704789352828583, c_curr = 7.919319292356643'"
      ]
     },
     "execution_count": 92,
     "metadata": {},
     "output_type": "execute_result"
    },
    {
     "data": {
      "text/plain": [
       "'curr_error: 11.316726627045592, m_delta:-2.0355060766810777e-05 m_curr :1.7704789352828583, m_next: 1.770478955637919, c_curr = 7.919319070703334'"
      ]
     },
     "execution_count": 92,
     "metadata": {},
     "output_type": "execute_result"
    },
    {
     "data": {
      "text/plain": [
       "'curr_error: 11.316726627045238, m_delta:-1.889947832923192e-05 m_curr :1.770478955637919, m_next: 1.7704789745373974, c_curr = 7.919318864900367'"
      ]
     },
     "execution_count": 92,
     "metadata": {},
     "output_type": "execute_result"
    },
    {
     "data": {
      "text/plain": [
       "'curr_error: 11.31672662704493, m_delta:-1.7547984040351577e-05 m_curr :1.7704789745373974, m_next: 1.7704789920853814, c_curr = 7.919318673814287'"
      ]
     },
     "execution_count": 92,
     "metadata": {},
     "output_type": "execute_result"
    },
    {
     "data": {
      "text/plain": [
       "'curr_error: 11.316726627044668, m_delta:-1.6293134529213112e-05 m_curr :1.7704789920853814, m_next: 1.770479008378516, c_curr = 7.9193184963927035'"
      ]
     },
     "execution_count": 92,
     "metadata": {},
     "output_type": "execute_result"
    },
    {
     "data": {
      "text/plain": [
       "'curr_error: 11.316726627044439, m_delta:-1.5128018961700735e-05 m_curr :1.770479008378516, m_next: 1.770479023506535, c_curr = 7.919318331658459'"
      ]
     },
     "execution_count": 92,
     "metadata": {},
     "output_type": "execute_result"
    },
    {
     "data": {
      "text/plain": [
       "'curr_error: 11.316726627044241, m_delta:-1.4046220120287846e-05 m_curr :1.770479023506535, m_next: 1.7704790375527553, c_curr = 7.919318178704304'"
      ]
     },
     "execution_count": 92,
     "metadata": {},
     "output_type": "execute_result"
    },
    {
     "data": {
      "text/plain": [
       "'curr_error: 11.316726627044073, m_delta:-1.3041780472524177e-05 m_curr :1.7704790375527553, m_next: 1.7704790505945358, c_curr = 7.9193180366878355'"
      ]
     },
     "execution_count": 92,
     "metadata": {},
     "output_type": "execute_result"
    },
    {
     "data": {
      "text/plain": [
       "'curr_error: 11.316726627043925, m_delta:-1.2109167788419374e-05 m_curr :1.7704790505945358, m_next: 1.7704790627037037, c_curr = 7.919317904826913'"
      ]
     },
     "execution_count": 92,
     "metadata": {},
     "output_type": "execute_result"
    },
    {
     "data": {
      "text/plain": [
       "'curr_error: 11.316726627043801, m_delta:-1.1243246004182649e-05 m_curr :1.7704790627037037, m_next: 1.7704790739469498, c_curr = 7.919317782395309'"
      ]
     },
     "execution_count": 92,
     "metadata": {},
     "output_type": "execute_result"
    },
    {
     "data": {
      "text/plain": [
       "'curr_error: 11.316726627043696, m_delta:-1.0439245817413696e-05 m_curr :1.7704790739469498, m_next: 1.7704790843861957, c_curr = 7.919317668718745'"
      ]
     },
     "execution_count": 92,
     "metadata": {},
     "output_type": "execute_result"
    },
    {
     "data": {
      "text/plain": [
       "'curr_error: 11.316726627043598, m_delta:-9.692739459191775e-06 m_curr :1.7704790843861957, m_next: 1.7704790940789352, c_curr = 7.919317563171145'"
      ]
     },
     "execution_count": 92,
     "metadata": {},
     "output_type": "execute_result"
    },
    {
     "data": {
      "text/plain": [
       "'curr_error: 11.316726627043519, m_delta:-8.999615408228214e-06 m_curr :1.7704790940789352, m_next: 1.7704791030785507, c_curr = 7.919317465171216'"
      ]
     },
     "execution_count": 92,
     "metadata": {},
     "output_type": "execute_result"
    },
    {
     "data": {
      "text/plain": [
       "'curr_error: 11.316726627043446, m_delta:-8.356056460966918e-06 m_curr :1.7704791030785507, m_next: 1.7704791114346072, c_curr = 7.9193173741792195'"
      ]
     },
     "execution_count": 92,
     "metadata": {},
     "output_type": "execute_result"
    },
    {
     "data": {
      "text/plain": [
       "'curr_error: 11.316726627043392, m_delta:-7.75851810011283e-06 m_curr :1.7704791114346072, m_next: 1.7704791191931253, c_curr = 7.919317289694028'"
      ]
     },
     "execution_count": 92,
     "metadata": {},
     "output_type": "execute_result"
    },
    {
     "data": {
      "text/plain": [
       "'curr_error: 11.316726627043337, m_delta:-7.203709510387549e-06 m_curr :1.7704791191931253, m_next: 1.7704791263968347, c_curr = 7.91931721125034'"
      ]
     },
     "execution_count": 92,
     "metadata": {},
     "output_type": "execute_result"
    },
    {
     "data": {
      "text/plain": [
       "'curr_error: 11.316726627043291, m_delta:-6.688575047939174e-06 m_curr :1.7704791263968347, m_next: 1.7704791330854097, c_curr = 7.919317138416131'"
      ]
     },
     "execution_count": 92,
     "metadata": {},
     "output_type": "execute_result"
    },
    {
     "data": {
      "text/plain": [
       "'curr_error: 11.316726627043256, m_delta:-6.210277696721114e-06 m_curr :1.7704791330854097, m_next: 1.7704791392956873, c_curr = 7.919317070790265'"
      ]
     },
     "execution_count": 92,
     "metadata": {},
     "output_type": "execute_result"
    },
    {
     "data": {
      "text/plain": [
       "'curr_error: 11.316726627043218, m_delta:-5.766183130836347e-06 m_curr :1.7704791392956873, m_next: 1.7704791450618704, c_curr = 7.919317008000301'"
      ]
     },
     "execution_count": 92,
     "metadata": {},
     "output_type": "execute_result"
    },
    {
     "data": {
      "text/plain": [
       "'curr_error: 11.316726627043195, m_delta:-5.353845668382863e-06 m_curr :1.7704791450618704, m_next: 1.770479150415716, c_curr = 7.919316949700421'"
      ]
     },
     "execution_count": 92,
     "metadata": {},
     "output_type": "execute_result"
    },
    {
     "data": {
      "text/plain": [
       "'curr_error: 11.316726627043167, m_delta:-4.9709942715754805e-06 m_curr :1.770479150415716, m_next: 1.7704791553867103, c_curr = 7.919316895569542'"
      ]
     },
     "execution_count": 92,
     "metadata": {},
     "output_type": "execute_result"
    },
    {
     "data": {
      "text/plain": [
       "'curr_error: 11.316726627043149, m_delta:-4.6155204190566874e-06 m_curr :1.7704791553867103, m_next: 1.7704791600022307, c_curr = 7.919316845309541'"
      ]
     },
     "execution_count": 92,
     "metadata": {},
     "output_type": "execute_result"
    },
    {
     "data": {
      "text/plain": [
       "'curr_error: 11.31672662704313, m_delta:-4.285466323276173e-06 m_curr :1.7704791600022307, m_next: 1.7704791642876971, c_curr = 7.919316798643615'"
      ]
     },
     "execution_count": 92,
     "metadata": {},
     "output_type": "execute_result"
    },
    {
     "data": {
      "text/plain": [
       "'curr_error: 11.316726627043117, m_delta:-3.979014342310923e-06 m_curr :1.7704791642876971, m_next: 1.7704791682667116, c_curr = 7.919316755314746'"
      ]
     },
     "execution_count": 92,
     "metadata": {},
     "output_type": "execute_result"
    },
    {
     "data": {
      "text/plain": [
       "'curr_error: 11.316726627043101, m_delta:-3.6944765534704297e-06 m_curr :1.7704791682667116, m_next: 1.770479171961188, c_curr = 7.919316715084311'"
      ]
     },
     "execution_count": 92,
     "metadata": {},
     "output_type": "execute_result"
    },
    {
     "data": {
      "text/plain": [
       "'curr_error: 11.316726627043089, m_delta:-3.430285973539144e-06 m_curr :1.770479171961188, m_next: 1.7704791753914741, c_curr = 7.919316677730739'"
      ]
     },
     "execution_count": 92,
     "metadata": {},
     "output_type": "execute_result"
    },
    {
     "data": {
      "text/plain": [
       "'curr_error: 11.316726627043082, m_delta:-3.184987588447723e-06 m_curr :1.7704791753914741, m_next: 1.7704791785764618, c_curr = 7.919316643048304'"
      ]
     },
     "execution_count": 92,
     "metadata": {},
     "output_type": "execute_result"
    },
    {
     "data": {
      "text/plain": [
       "'curr_error: 11.31672662704307, m_delta:-2.9572303427235406e-06 m_curr :1.7704791785764618, m_next: 1.770479181533692, c_curr = 7.919316610845999'"
      ]
     },
     "execution_count": 92,
     "metadata": {},
     "output_type": "execute_result"
    },
    {
     "data": {
      "text/plain": [
       "'curr_error: 11.31672662704306, m_delta:-2.7457599506201054e-06 m_curr :1.770479181533692, m_next: 1.7704791842794518, c_curr = 7.91931658094647'"
      ]
     },
     "execution_count": 92,
     "metadata": {},
     "output_type": "execute_result"
    },
    {
     "data": {
      "text/plain": [
       "'curr_error: 11.316726627043055, m_delta:-2.549411729109334e-06 m_curr :1.7704791842794518, m_next: 1.7704791868288636, c_curr = 7.919316553185044'"
      ]
     },
     "execution_count": 92,
     "metadata": {},
     "output_type": "execute_result"
    },
    {
     "data": {
      "text/plain": [
       "'curr_error: 11.316726627043048, m_delta:-2.367104393568134e-06 m_curr :1.7704791868288636, m_next: 1.770479189195968, c_curr = 7.919316527408819'"
      ]
     },
     "execution_count": 92,
     "metadata": {},
     "output_type": "execute_result"
    },
    {
     "data": {
      "text/plain": [
       "'curr_error: 11.31672662704304, m_delta:-2.1978335324454233e-06 m_curr :1.770479189195968, m_next: 1.7704791913938014, c_curr = 7.919316503475855'"
      ]
     },
     "execution_count": 92,
     "metadata": {},
     "output_type": "execute_result"
    },
    {
     "data": {
      "text/plain": [
       "'curr_error: 11.316726627043039, m_delta:-2.0406674449392226e-06 m_curr :1.7704791913938014, m_next: 1.7704791934344688, c_curr = 7.919316481254317'"
      ]
     },
     "execution_count": 92,
     "metadata": {},
     "output_type": "execute_result"
    },
    {
     "data": {
      "text/plain": [
       "'curr_error: 11.316726627043037, m_delta:-1.8947400235447276e-06 m_curr :1.7704791934344688, m_next: 1.7704791953292087, c_curr = 7.91931646062184'"
      ]
     },
     "execution_count": 92,
     "metadata": {},
     "output_type": "execute_result"
    },
    {
     "data": {
      "text/plain": [
       "'curr_error: 11.316726627043034, m_delta:-1.759247985488307e-06 m_curr :1.7704791953292087, m_next: 1.7704791970884568, c_curr = 7.919316441464777'"
      ]
     },
     "execution_count": 92,
     "metadata": {},
     "output_type": "execute_result"
    },
    {
     "data": {
      "text/plain": [
       "'curr_error: 11.316726627043028, m_delta:-1.6334448393087232e-06 m_curr :1.7704791970884568, m_next: 1.7704791987219017, c_curr = 7.91931642367763'"
      ]
     },
     "execution_count": 92,
     "metadata": {},
     "output_type": "execute_result"
    },
    {
     "ename": "NameError",
     "evalue": "name 'curr_errror' is not defined",
     "output_type": "error",
     "traceback": [
      "\u001b[0;31m---------------------------------------------------------------------------\u001b[0m",
      "\u001b[0;31mNameError\u001b[0m                                 Traceback (most recent call last)",
      "\u001b[0;32m<ipython-input-92-172d3e836f7e>\u001b[0m in \u001b[0;36m<module>\u001b[0;34m\u001b[0m\n\u001b[1;32m     41\u001b[0m         \u001b[0mmin_error\u001b[0m\u001b[0;34m=\u001b[0m\u001b[0mcurr_error\u001b[0m\u001b[0;34m\u001b[0m\u001b[0;34m\u001b[0m\u001b[0m\n\u001b[1;32m     42\u001b[0m     \u001b[0;32melse\u001b[0m\u001b[0;34m:\u001b[0m\u001b[0;34m\u001b[0m\u001b[0;34m\u001b[0m\u001b[0m\n\u001b[0;32m---> 43\u001b[0;31m         \u001b[0mprint\u001b[0m\u001b[0;34m(\u001b[0m\u001b[0;34mf'min_error_reached at {curr_errror}, m_curr:{m_curr}, c_curr={c_curr}'\u001b[0m \u001b[0;34m)\u001b[0m\u001b[0;34m\u001b[0m\u001b[0;34m\u001b[0m\u001b[0m\n\u001b[0m\u001b[1;32m     44\u001b[0m \u001b[0;31m#     #update m\u001b[0m\u001b[0;34m\u001b[0m\u001b[0;34m\u001b[0m\u001b[0;34m\u001b[0m\u001b[0m\n\u001b[1;32m     45\u001b[0m \u001b[0;31m#     x,y,m_curr,c_curr\u001b[0m\u001b[0;34m\u001b[0m\u001b[0;34m\u001b[0m\u001b[0;34m\u001b[0m\u001b[0m\n",
      "\u001b[0;31mNameError\u001b[0m: name 'curr_errror' is not defined"
     ]
    }
   ],
   "source": [
    "#update m flow\n",
    "#calculate delta m\n",
    "def init():\n",
    "    return 1,1\n",
    "\n",
    "def get_y_hat(m,c):\n",
    "    return m*x+c\n",
    "\n",
    "#error calculation\n",
    "def get_mse(y_hat):\n",
    "    return sum((y-y_hat)**2)/len(y_hat)\n",
    "\n",
    "def get_delta_m(x,y,m_curr,c_curr):\n",
    "    y_sub_y_hat_star_x=(y-m_curr*x-c_curr)*(x)\n",
    "    sum_of_diff=sum(y_sub_y_hat_star_x)\n",
    "#     print(f'sum_of_diff: {sum_of_diff}')\n",
    "    result=(-2/len(y)) * sum_of_diff\n",
    "    return result\n",
    "\n",
    "def compare_m_delta(x,y,y_hat):\n",
    "    sum_of_diff_start_x_compare=sum(x * (y - y_hat))\n",
    "#     print(f'sum_of_diff_start_x_compare: {sum_of_diff_start_x_compare}')\n",
    "    return (-2/len(y))* sum(x * (y - y_hat))\n",
    "def get_delta_c(x,y,m_curr,c_curr):\n",
    "    return (-2/len(y))* sum(y-m_curr*x-c_curr)\n",
    "\n",
    "m_initial, c_initial=init()\n",
    "m_initial, c_initial\n",
    "\n",
    "m_curr=m_initial\n",
    "c_curr=c_initial\n",
    "min_error=np.inf\n",
    "for i in range(500):\n",
    "    y_hat=get_y_hat(m_curr,c_curr)\n",
    "    m_compare=compare_m_delta(x,y,y_hat)\n",
    "    m_delta=get_delta_m(x,y,m_curr,c_curr)\n",
    "#     m_delta,m_compare\n",
    "    curr_error=get_mse(y_hat)\n",
    "\n",
    "    if curr_error<min_error:\n",
    "        min_error=curr_error\n",
    "    else:\n",
    "        print(f'min_error_reached at {curr_error}, m_curr:{m_curr}, c_curr={c_curr}' )\n",
    "#     #update m\n",
    "#     x,y,m_curr,c_curr\n",
    "#     m_delta=get_delta_m(x,y,m_curr,c_curr)\n",
    "    m_next=m_curr-m_delta*0.001\n",
    "    f'curr_error: {curr_error}, m_delta:{m_delta} m_curr :{m_curr}, m_next: {m_next}, c_curr = {c_curr}'\n",
    "    m_curr=m_next\n",
    "\n",
    "    #update c\n",
    "    c_delta= get_delta_c(x,y,m_curr,c_curr)\n",
    "    c_next=c_curr-c_delta\n",
    "    c_curr=c_next\n",
    "#     break\n",
    "\n",
    "# 'curr_error: 255.3957979697801'\n",
    "# 'curr_error: 2087.538127171408'\n",
    "# 'curr_error: 18883.11401417236'\n"
   ]
  },
  {
   "cell_type": "code",
   "execution_count": null,
   "metadata": {},
   "outputs": [],
   "source": [
    "equation of line: "
   ]
  }
 ],
 "metadata": {
  "kernelspec": {
   "display_name": "customer",
   "language": "python",
   "name": "customer"
  },
  "language_info": {
   "codemirror_mode": {
    "name": "ipython",
    "version": 3
   },
   "file_extension": ".py",
   "mimetype": "text/x-python",
   "name": "python",
   "nbconvert_exporter": "python",
   "pygments_lexer": "ipython3",
   "version": "3.7.5"
  }
 },
 "nbformat": 4,
 "nbformat_minor": 4
}
